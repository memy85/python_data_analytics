{
 "cells": [
  {
   "cell_type": "markdown",
   "id": "16dcb372",
   "metadata": {},
   "source": [
    "# Recap\n",
    "- Jupyter Notebook : 데이터 분석을 하기 위한 IDE(Interactive Develop Environment)\n",
    "    - 마크다운과 cell로 구성되어 있다\n",
    "    - 주피터 노트북 단축키 사용을 익히자 (class 1. 주피터 노트북 파일 참고)\n",
    "  \n",
    "# Python에 대해서 알아보자\n",
    "## python의 장점\n",
    "- 프로그래밍 용어들 중에서 가장 직관적인 언어로 알려져 있다.\n",
    "- 현재 프로그래머들 중에서 사용되는 프로그래밍 언어 2위이다.\n",
    "- 유연한 언어에 속해 파이썬으로 다양한 코딩 작업을 할 수 있음 (프론트앤드, 시스템작업, 데이터분석..)\n",
    "    \n",
    "## python의 특징\n",
    "- 파이썬은 **인터프리터 언어**다. -> 이 말은 **컴파일러 언어**와 대치되는 언어다.\n",
    "- 일종의 해석기가 cpu와 소통을 도와주는데, 프로그래밍하기에 편하다는 장점이 있다.\n",
    "- 동시에 인터프리터가 없이는 코딩이 되지 않으므로 다른 언어에 비해 무겁다는 얘기도 된다. 무겁다는 것은 느리다는 얘기다.\n",
    "    "
   ]
  },
  {
   "cell_type": "markdown",
   "id": "a23c0cf1",
   "metadata": {},
   "source": [
    "## 자료형 및 연산자\n",
    "- 자료형이란 무엇인가?\n",
    "    - 자료형이란 프로그래밍 언어가 기본적으로 데이터를 저장하는 형태를 말한다. 모든 프로그래밍 언어는 자신만의 자료구조가 있다. \n",
    "    - 파이썬의 경우 기본 자료구조가 숫자형(int, float), boolean, 글자형(str) 이 있다."
   ]
  },
  {
   "cell_type": "code",
   "execution_count": 1,
   "id": "39dc3acf",
   "metadata": {},
   "outputs": [
    {
     "data": {
      "text/plain": [
       "\u001b[0;31mInit signature:\u001b[0m \u001b[0mint\u001b[0m\u001b[0;34m(\u001b[0m\u001b[0mself\u001b[0m\u001b[0;34m,\u001b[0m \u001b[0;34m/\u001b[0m\u001b[0;34m,\u001b[0m \u001b[0;34m*\u001b[0m\u001b[0margs\u001b[0m\u001b[0;34m,\u001b[0m \u001b[0;34m**\u001b[0m\u001b[0mkwargs\u001b[0m\u001b[0;34m)\u001b[0m\u001b[0;34m\u001b[0m\u001b[0;34m\u001b[0m\u001b[0m\n",
       "\u001b[0;31mDocstring:\u001b[0m     \n",
       "int([x]) -> integer\n",
       "int(x, base=10) -> integer\n",
       "\n",
       "Convert a number or string to an integer, or return 0 if no arguments\n",
       "are given.  If x is a number, return x.__int__().  For floating point\n",
       "numbers, this truncates towards zero.\n",
       "\n",
       "If x is not a number or if base is given, then x must be a string,\n",
       "bytes, or bytearray instance representing an integer literal in the\n",
       "given base.  The literal can be preceded by '+' or '-' and be surrounded\n",
       "by whitespace.  The base defaults to 10.  Valid bases are 0 and 2-36.\n",
       "Base 0 means to interpret the base from the string as an integer literal.\n",
       ">>> int('0b100', base=0)\n",
       "4\n",
       "\u001b[0;31mType:\u001b[0m           type\n",
       "\u001b[0;31mSubclasses:\u001b[0m     bool, IntEnum, IntFlag, _NamedIntConstant\n"
      ]
     },
     "metadata": {},
     "output_type": "display_data"
    }
   ],
   "source": [
    "?int"
   ]
  },
  {
   "cell_type": "code",
   "execution_count": 2,
   "id": "a9e0ab0a",
   "metadata": {},
   "outputs": [
    {
     "data": {
      "text/plain": [
       "(1, 1.0)"
      ]
     },
     "execution_count": 2,
     "metadata": {},
     "output_type": "execute_result"
    }
   ],
   "source": [
    "int(1), float(1)"
   ]
  },
  {
   "cell_type": "markdown",
   "id": "386dcf13",
   "metadata": {},
   "source": [
    "기본적인 연산을 해보자"
   ]
  },
  {
   "cell_type": "code",
   "execution_count": 5,
   "id": "6fc4b2f2",
   "metadata": {},
   "outputs": [
    {
     "data": {
      "text/plain": [
       "(2, 0, 1, 1.0)"
      ]
     },
     "execution_count": 5,
     "metadata": {},
     "output_type": "execute_result"
    }
   ],
   "source": [
    "1+1, 1 - 1, 1 * 1, 1 / 1"
   ]
  },
  {
   "cell_type": "code",
   "execution_count": 9,
   "id": "aafde4ec",
   "metadata": {},
   "outputs": [
    {
     "data": {
      "text/plain": [
       "1"
      ]
     },
     "execution_count": 9,
     "metadata": {},
     "output_type": "execute_result"
    }
   ],
   "source": [
    "# 제곱\n",
    "2**3\n",
    "\n",
    "# 나누기\n",
    "10/2\n",
    "\n",
    "# 몫\n",
    "\n",
    "10//2\n",
    "\n",
    "# 나머지\n",
    "7 % 2"
   ]
  },
  {
   "cell_type": "code",
   "execution_count": 10,
   "id": "1920bf32",
   "metadata": {},
   "outputs": [
    {
     "data": {
      "text/plain": [
       "8"
      ]
     },
     "execution_count": 10,
     "metadata": {},
     "output_type": "execute_result"
    }
   ],
   "source": [
    "2**3"
   ]
  },
  {
   "cell_type": "code",
   "execution_count": 3,
   "id": "5ba3924b",
   "metadata": {},
   "outputs": [
    {
     "data": {
      "text/plain": [
       "1"
      ]
     },
     "execution_count": 3,
     "metadata": {},
     "output_type": "execute_result"
    }
   ],
   "source": [
    "# 할당 연산자\n",
    "# = 는 할당해주는 기호\n",
    "\n",
    "a = 1\n",
    "a"
   ]
  },
  {
   "cell_type": "code",
   "execution_count": 4,
   "id": "0db46b0a-acd3-4abe-80bf-1a08c924e35a",
   "metadata": {},
   "outputs": [
    {
     "data": {
      "text/plain": [
       "10"
      ]
     },
     "execution_count": 4,
     "metadata": {},
     "output_type": "execute_result"
    }
   ],
   "source": [
    "a * 10"
   ]
  },
  {
   "cell_type": "markdown",
   "id": "274711cb",
   "metadata": {},
   "source": [
    "boolean\n",
    "\n",
    "- True, False만 가짐\n",
    "- bool의 이름을 따서 만들었음"
   ]
  },
  {
   "cell_type": "code",
   "execution_count": 5,
   "id": "9210410b-c397-4503-b0a1-98fa4fa2ce7c",
   "metadata": {},
   "outputs": [
    {
     "data": {
      "text/plain": [
       "bool"
      ]
     },
     "execution_count": 5,
     "metadata": {},
     "output_type": "execute_result"
    }
   ],
   "source": [
    "type(True)"
   ]
  },
  {
   "cell_type": "code",
   "execution_count": 38,
   "id": "e85a31f7",
   "metadata": {},
   "outputs": [
    {
     "data": {
      "text/plain": [
       "True"
      ]
     },
     "execution_count": 38,
     "metadata": {},
     "output_type": "execute_result"
    }
   ],
   "source": [
    "mybool = True\n",
    "\n",
    "mybool"
   ]
  },
  {
   "cell_type": "code",
   "execution_count": 6,
   "id": "01e8ca52",
   "metadata": {},
   "outputs": [
    {
     "data": {
      "text/plain": [
       "False"
      ]
     },
     "execution_count": 6,
     "metadata": {},
     "output_type": "execute_result"
    }
   ],
   "source": [
    "a > 1\n",
    "# 계산 연산시 true, false 같은 boolean을 반환해줌"
   ]
  },
  {
   "cell_type": "markdown",
   "id": "55a251be",
   "metadata": {},
   "source": [
    "문자형"
   ]
  },
  {
   "cell_type": "code",
   "execution_count": 13,
   "id": "a2a1dbe9",
   "metadata": {},
   "outputs": [
    {
     "data": {
      "text/plain": [
       "'hello'"
      ]
     },
     "execution_count": 13,
     "metadata": {},
     "output_type": "execute_result"
    }
   ],
   "source": [
    "'hello'"
   ]
  },
  {
   "cell_type": "code",
   "execution_count": 11,
   "id": "1b99d66f",
   "metadata": {},
   "outputs": [
    {
     "data": {
      "text/plain": [
       "'hello hello'"
      ]
     },
     "execution_count": 11,
     "metadata": {},
     "output_type": "execute_result"
    }
   ],
   "source": [
    "'hello' + \" \" + 'hello'"
   ]
  },
  {
   "cell_type": "code",
   "execution_count": 12,
   "id": "7b28f893",
   "metadata": {},
   "outputs": [
    {
     "data": {
      "text/plain": [
       "'hellohello'"
      ]
     },
     "execution_count": 12,
     "metadata": {},
     "output_type": "execute_result"
    }
   ],
   "source": [
    "'hello'*2"
   ]
  },
  {
   "cell_type": "markdown",
   "id": "9824c67a-e367-4bef-9262-fc3ab1fac569",
   "metadata": {},
   "source": [
    "문자형 인덱싱"
   ]
  },
  {
   "cell_type": "code",
   "execution_count": 31,
   "id": "a02696ab-4faa-44b3-b298-96c255bd0313",
   "metadata": {},
   "outputs": [
    {
     "data": {
      "text/plain": [
       "'h'"
      ]
     },
     "execution_count": 31,
     "metadata": {},
     "output_type": "execute_result"
    }
   ],
   "source": [
    "\"hello my name is Joe\"[0]"
   ]
  },
  {
   "cell_type": "code",
   "execution_count": 32,
   "id": "493a43df-4f3c-4322-aaea-589d51735c61",
   "metadata": {},
   "outputs": [
    {
     "data": {
      "text/plain": [
       "'ell'"
      ]
     },
     "execution_count": 32,
     "metadata": {},
     "output_type": "execute_result"
    }
   ],
   "source": [
    "\"hello my name is Joe\"[1:4]"
   ]
  },
  {
   "cell_type": "code",
   "execution_count": 16,
   "id": "67d4863a-f7b9-4318-8a80-23904b692be5",
   "metadata": {},
   "outputs": [
    {
     "data": {
      "text/plain": [
       "'세요'"
      ]
     },
     "execution_count": 16,
     "metadata": {},
     "output_type": "execute_result"
    }
   ],
   "source": [
    "'안녕하세요, 저는 마이크입니다.'[3:5]"
   ]
  },
  {
   "cell_type": "markdown",
   "id": "876df0a1",
   "metadata": {},
   "source": [
    "문자형 포맷팅"
   ]
  },
  {
   "cell_type": "code",
   "execution_count": 33,
   "id": "3c37baf4",
   "metadata": {},
   "outputs": [
    {
     "name": "stdout",
     "output_type": "stream",
     "text": [
      "my age is 200\n",
      "my age is 0.13\n"
     ]
    }
   ],
   "source": [
    "# %를 이용한 포맷팅 \n",
    "\n",
    "'hello my name is %s' % 'mike'\n",
    "print('my age is %2d' % 200)\n",
    "print('my age is %3.2f' %0.13)"
   ]
  },
  {
   "cell_type": "code",
   "execution_count": 34,
   "id": "a64d48df",
   "metadata": {},
   "outputs": [
    {
     "data": {
      "text/plain": [
       "\"my brother's name is benny and my dog's name is WJ\""
      ]
     },
     "execution_count": 34,
     "metadata": {},
     "output_type": "execute_result"
    }
   ],
   "source": [
    "# .format을 이용한 포맷팅\n",
    "\n",
    "'my name is {}'.format('wonseok')\n",
    "\"my brother's name is {a} and my dog's name is {b}\".format(a='WJ', b= 'benny')\n",
    "\"my brother's name is {a} and my dog's name is {b}\".format(b='WJ', a= 'benny')"
   ]
  },
  {
   "cell_type": "markdown",
   "id": "4a517655-0f96-44f6-a2dd-9540da2d056f",
   "metadata": {},
   "source": [
    "자신의 이름과 나이를 한번 print 해보세요"
   ]
  },
  {
   "cell_type": "code",
   "execution_count": 34,
   "id": "d3ce8163",
   "metadata": {},
   "outputs": [
    {
     "data": {
      "text/plain": [
       "\"my brother's name is benny and my dog's name is 10\""
      ]
     },
     "execution_count": 34,
     "metadata": {},
     "output_type": "execute_result"
    }
   ],
   "source": [
    "\"my brother's name is {a} and my dog's name is {b}\".format(b=10, a= 'benny')"
   ]
  },
  {
   "cell_type": "code",
   "execution_count": 35,
   "id": "d7272036",
   "metadata": {},
   "outputs": [
    {
     "data": {
      "text/plain": [
       "'my name is wonseok'"
      ]
     },
     "execution_count": 35,
     "metadata": {},
     "output_type": "execute_result"
    }
   ],
   "source": [
    "# f 문자열 포맷팅\n",
    "\n",
    "name = 'wonseok'\n",
    "f\"my name is {name}\""
   ]
  },
  {
   "cell_type": "markdown",
   "id": "cbe0282a",
   "metadata": {},
   "source": [
    "## 고급 자료구조들\n",
    "- list : 어떤 객체든 다 담을 수 있다. 순서가 있고, indexing이 가능함. \n",
    "- tuple : 어떤 객체든 다 담을 수 있다. 순서가 있음. indexing이 가능하지만 한번 만들고 나서는 요소를 추가할 수 없음\n",
    "- dictionary : 어떤 객체든 담을 수 있지만, 'key' 값은 반드시 unique해야 함. key : value 의 구조로 이루어져 있다. \n",
    "- set : 집합. unique한 값만 들어갈 수 있는 구조. 숫자형, 어떤 객체든 들어갈 수 있다."
   ]
  },
  {
   "cell_type": "code",
   "execution_count": 35,
   "id": "f21f4c24",
   "metadata": {},
   "outputs": [],
   "source": [
    "mylist = list()\n",
    "\n",
    "mylist.append(1)\n",
    "mylist.append(2)\n",
    "mylist.append('banana')\n",
    "mylist.append('apple')"
   ]
  },
  {
   "cell_type": "code",
   "execution_count": 36,
   "id": "63e422f3",
   "metadata": {},
   "outputs": [
    {
     "data": {
      "text/plain": [
       "[1, 2, 'banana', 'apple']"
      ]
     },
     "execution_count": 36,
     "metadata": {},
     "output_type": "execute_result"
    }
   ],
   "source": [
    "mylist"
   ]
  },
  {
   "cell_type": "code",
   "execution_count": 42,
   "id": "db8d948a",
   "metadata": {},
   "outputs": [
    {
     "data": {
      "text/plain": [
       "'apple'"
      ]
     },
     "execution_count": 42,
     "metadata": {},
     "output_type": "execute_result"
    }
   ],
   "source": [
    "# indexing 은 0부터 시작\n",
    "mylist[0]\n",
    "\n",
    "mylist[:-2]\n",
    "\n",
    "mylist[1:-2]\n",
    "\n",
    "mylist[-1] # 반대에서는 -1부터"
   ]
  },
  {
   "cell_type": "code",
   "execution_count": 43,
   "id": "5ff37613",
   "metadata": {},
   "outputs": [
    {
     "data": {
      "text/plain": [
       "[1, 2, 'banana', 'apple', 1, 2, 'banana', 'apple']"
      ]
     },
     "execution_count": 43,
     "metadata": {},
     "output_type": "execute_result"
    }
   ],
   "source": [
    "mylist * 2"
   ]
  },
  {
   "cell_type": "code",
   "execution_count": 44,
   "id": "b3ced180",
   "metadata": {},
   "outputs": [],
   "source": [
    "mylist.extend(['strawberry', 'apple'])"
   ]
  },
  {
   "cell_type": "code",
   "execution_count": 45,
   "id": "61d04c8c",
   "metadata": {},
   "outputs": [
    {
     "data": {
      "text/plain": [
       "[1, 2, 'banana', 'apple', 'strawberry', 'apple']"
      ]
     },
     "execution_count": 45,
     "metadata": {},
     "output_type": "execute_result"
    }
   ],
   "source": [
    "mylist"
   ]
  },
  {
   "cell_type": "code",
   "execution_count": 46,
   "id": "ee77aa4b",
   "metadata": {},
   "outputs": [
    {
     "data": {
      "text/plain": [
       "3"
      ]
     },
     "execution_count": 46,
     "metadata": {},
     "output_type": "execute_result"
    }
   ],
   "source": [
    "# element의 가장 첫번째 발생하는 index를 반환\n",
    "\n",
    "mylist.index('apple')"
   ]
  },
  {
   "cell_type": "code",
   "execution_count": 47,
   "id": "7515d6ba",
   "metadata": {},
   "outputs": [],
   "source": [
    "mylist.remove('apple')"
   ]
  },
  {
   "cell_type": "code",
   "execution_count": 48,
   "id": "25faabd2",
   "metadata": {},
   "outputs": [
    {
     "data": {
      "text/plain": [
       "[1, 2, 'banana', 'strawberry', 'apple']"
      ]
     },
     "execution_count": 48,
     "metadata": {},
     "output_type": "execute_result"
    }
   ],
   "source": [
    "mylist"
   ]
  },
  {
   "cell_type": "code",
   "execution_count": 49,
   "id": "0f93a045",
   "metadata": {},
   "outputs": [
    {
     "data": {
      "text/plain": [
       "2"
      ]
     },
     "execution_count": 49,
     "metadata": {},
     "output_type": "execute_result"
    }
   ],
   "source": [
    "# index의 원소를 제거하면서 반환\n",
    "mylist.pop(1)"
   ]
  },
  {
   "cell_type": "code",
   "execution_count": 50,
   "id": "01205e25",
   "metadata": {},
   "outputs": [
    {
     "data": {
      "text/plain": [
       "[1, 'banana', 'strawberry', 'apple']"
      ]
     },
     "execution_count": 50,
     "metadata": {},
     "output_type": "execute_result"
    }
   ],
   "source": [
    "mylist"
   ]
  },
  {
   "cell_type": "code",
   "execution_count": 51,
   "id": "ab2b9e41",
   "metadata": {},
   "outputs": [],
   "source": [
    "# 순서 전환\n",
    "mylist.reverse()"
   ]
  },
  {
   "cell_type": "code",
   "execution_count": 52,
   "id": "20422dfe",
   "metadata": {},
   "outputs": [
    {
     "data": {
      "text/plain": [
       "['apple', 'strawberry', 'banana', 1]"
      ]
     },
     "execution_count": 52,
     "metadata": {},
     "output_type": "execute_result"
    }
   ],
   "source": [
    "mylist"
   ]
  },
  {
   "cell_type": "code",
   "execution_count": 53,
   "id": "4a14f020",
   "metadata": {},
   "outputs": [
    {
     "data": {
      "text/plain": [
       "[-10, 1, 2, 3, 4, 10]"
      ]
     },
     "execution_count": 53,
     "metadata": {},
     "output_type": "execute_result"
    }
   ],
   "source": [
    "mylist = [1,3,10,2,4,-10]\n",
    "\n",
    "sorted(mylist)"
   ]
  },
  {
   "cell_type": "code",
   "execution_count": 87,
   "id": "3696fd13-f680-40a5-8469-dd5a0974a26b",
   "metadata": {},
   "outputs": [
    {
     "data": {
      "text/plain": [
       "[1, 10, 4]"
      ]
     },
     "execution_count": 87,
     "metadata": {},
     "output_type": "execute_result"
    }
   ],
   "source": [
    "mylist[::2]"
   ]
  },
  {
   "cell_type": "code",
   "execution_count": 20,
   "id": "b09fd26d",
   "metadata": {},
   "outputs": [
    {
     "data": {
      "text/plain": [
       "2"
      ]
     },
     "execution_count": 20,
     "metadata": {},
     "output_type": "execute_result"
    }
   ],
   "source": [
    "mylist.append(1)\n",
    "\n",
    "mylist.count(1)"
   ]
  },
  {
   "cell_type": "code",
   "execution_count": 62,
   "id": "3400ae80",
   "metadata": {},
   "outputs": [],
   "source": [
    "mytuple = ('apple', 1, 'banana')"
   ]
  },
  {
   "cell_type": "code",
   "execution_count": 56,
   "id": "ea09753d",
   "metadata": {},
   "outputs": [
    {
     "data": {
      "text/plain": [
       "(1, 'banana')"
      ]
     },
     "execution_count": 56,
     "metadata": {},
     "output_type": "execute_result"
    }
   ],
   "source": [
    "mytuple[0] # indexiing\n",
    "\n",
    "mytuple[1:]"
   ]
  },
  {
   "cell_type": "code",
   "execution_count": 64,
   "id": "93383f0c",
   "metadata": {},
   "outputs": [
    {
     "data": {
      "text/plain": [
       "1"
      ]
     },
     "execution_count": 64,
     "metadata": {},
     "output_type": "execute_result"
    }
   ],
   "source": [
    "mytuple.count(1)"
   ]
  },
  {
   "cell_type": "code",
   "execution_count": 65,
   "id": "2e43bd25",
   "metadata": {},
   "outputs": [
    {
     "ename": "AttributeError",
     "evalue": "'tuple' object has no attribute 'append'",
     "output_type": "error",
     "traceback": [
      "\u001b[0;31m---------------------------------------------------------------------------\u001b[0m",
      "\u001b[0;31mAttributeError\u001b[0m                            Traceback (most recent call last)",
      "\u001b[0;32m/tmp/ipykernel_26900/2513096057.py\u001b[0m in \u001b[0;36m<module>\u001b[0;34m\u001b[0m\n\u001b[0;32m----> 1\u001b[0;31m \u001b[0mmytuple\u001b[0m\u001b[0;34m.\u001b[0m\u001b[0mappend\u001b[0m\u001b[0;34m(\u001b[0m\u001b[0;34m'2'\u001b[0m\u001b[0;34m)\u001b[0m\u001b[0;34m\u001b[0m\u001b[0;34m\u001b[0m\u001b[0m\n\u001b[0m\u001b[1;32m      2\u001b[0m \u001b[0;34m\u001b[0m\u001b[0m\n\u001b[1;32m      3\u001b[0m \u001b[0;31m# 튜플은 구성 요소가 새로 추가될 수 없는 자료구조\u001b[0m\u001b[0;34m\u001b[0m\u001b[0;34m\u001b[0m\u001b[0m\n",
      "\u001b[0;31mAttributeError\u001b[0m: 'tuple' object has no attribute 'append'"
     ]
    }
   ],
   "source": [
    "mytuple.append('2')\n",
    "\n",
    "# 튜플은 구성 요소가 새로 추가될 수 없는 자료구조"
   ]
  },
  {
   "cell_type": "code",
   "execution_count": 66,
   "id": "03dc4254",
   "metadata": {},
   "outputs": [
    {
     "data": {
      "text/plain": [
       "{'key': 'value'}"
      ]
     },
     "execution_count": 66,
     "metadata": {},
     "output_type": "execute_result"
    }
   ],
   "source": [
    "mydict = {'key':'value'}\n",
    "# 키값과 밸류 값으로 구성\n",
    "\n",
    "mydict"
   ]
  },
  {
   "cell_type": "code",
   "execution_count": 67,
   "id": "3ecb54a2",
   "metadata": {},
   "outputs": [
    {
     "data": {
      "text/plain": [
       "'value'"
      ]
     },
     "execution_count": 67,
     "metadata": {},
     "output_type": "execute_result"
    }
   ],
   "source": [
    "mydict['key']"
   ]
  },
  {
   "cell_type": "code",
   "execution_count": 68,
   "id": "2d4c1579",
   "metadata": {},
   "outputs": [
    {
     "data": {
      "text/plain": [
       "'value'"
      ]
     },
     "execution_count": 68,
     "metadata": {},
     "output_type": "execute_result"
    }
   ],
   "source": [
    "mydict.get('key')"
   ]
  },
  {
   "cell_type": "code",
   "execution_count": 69,
   "id": "bd009e2a",
   "metadata": {},
   "outputs": [
    {
     "data": {
      "text/plain": [
       "{'key': 'value', 'new_key': 'new_value'}"
      ]
     },
     "execution_count": 69,
     "metadata": {},
     "output_type": "execute_result"
    }
   ],
   "source": [
    "mydict['new_key'] = 'new_value'\n",
    "\n",
    "mydict"
   ]
  },
  {
   "cell_type": "code",
   "execution_count": 70,
   "id": "43433331",
   "metadata": {},
   "outputs": [
    {
     "data": {
      "text/plain": [
       "'value'"
      ]
     },
     "execution_count": 70,
     "metadata": {},
     "output_type": "execute_result"
    }
   ],
   "source": [
    "mydict.pop('key')\n",
    "\n",
    "# value를 내보내며 키, 밸류 제거"
   ]
  },
  {
   "cell_type": "code",
   "execution_count": 71,
   "id": "c919ba67",
   "metadata": {},
   "outputs": [
    {
     "data": {
      "text/plain": [
       "dict_values(['new_value'])"
      ]
     },
     "execution_count": 71,
     "metadata": {},
     "output_type": "execute_result"
    }
   ],
   "source": [
    "mydict.values()"
   ]
  },
  {
   "cell_type": "code",
   "execution_count": 72,
   "id": "d4542178",
   "metadata": {},
   "outputs": [
    {
     "data": {
      "text/plain": [
       "dict_keys(['new_key'])"
      ]
     },
     "execution_count": 72,
     "metadata": {},
     "output_type": "execute_result"
    }
   ],
   "source": [
    "mydict.keys()"
   ]
  },
  {
   "cell_type": "code",
   "execution_count": 73,
   "id": "cc78c5ac",
   "metadata": {},
   "outputs": [
    {
     "data": {
      "text/plain": [
       "{'new_key': 'another value'}"
      ]
     },
     "execution_count": 73,
     "metadata": {},
     "output_type": "execute_result"
    }
   ],
   "source": [
    "mydict['new_key'] = 'another value'\n",
    "\n",
    "mydict\n",
    "# 키값은 unique한 것만 존재함"
   ]
  },
  {
   "cell_type": "markdown",
   "id": "3d031e21-1893-4ed6-9a91-cbc03f5b8539",
   "metadata": {
    "tags": []
   },
   "source": [
    "## Practice (연습문제)\n",
    "\n",
    "1. user의 닉네임과 비밀번호를 딕셔너리에 key 와 value의 형태로 저장해보세요.\n",
    "- hint1 : key는 닉네임, 비밀번호가 돼야 합니다."
   ]
  },
  {
   "cell_type": "code",
   "execution_count": 79,
   "id": "dfe35583-730d-4aae-bbc2-3073a8cb1d50",
   "metadata": {},
   "outputs": [],
   "source": [
    "user1 = {'user1':'pass_word1'}\n",
    "user2 = {'user2':'pass_word2'}\n",
    "\n",
    "information_list = [user1, user2]"
   ]
  },
  {
   "cell_type": "code",
   "execution_count": 85,
   "id": "7c0f3f52-def1-4062-805f-52a31d8ac656",
   "metadata": {},
   "outputs": [],
   "source": [
    "information_dict = {'users':['user1','user2'], 'pass_word':['pass_word1', 'pass_word2']}\n",
    "\n",
    "index = information_dict['users'].index('user1')\n",
    "pass_word = information_dict['pass_word'][index]\n",
    "\n",
    "# check if password is the same"
   ]
  },
  {
   "cell_type": "markdown",
   "id": "a8afb9af",
   "metadata": {
    "tags": []
   },
   "source": [
    "### Iterable에 대한 이해\n",
    "- 반복문 객체란\n",
    "    - 반복문을 거치면서 원소를 내뱉을 수 있는 object를 이야기함. \n",
    "    - object란 쉽게 말해 컴퓨터 프로그램상에서 여러 기능을 갖고 있는 존재를 말함"
   ]
  },
  {
   "cell_type": "code",
   "execution_count": 3,
   "id": "929a73da",
   "metadata": {},
   "outputs": [
    {
     "name": "stdout",
     "output_type": "stream",
     "text": [
      "1\n",
      "2\n",
      "3\n"
     ]
    }
   ],
   "source": [
    "mylist = [1,2,3,4,5]\n",
    "\n",
    "for i in mylist :\n",
    "    print(i)\n",
    "    if i == 3 :\n",
    "        break\n",
    "\n",
    "# 리스트나 튜플, 딕셔너리는 iterable이다. "
   ]
  },
  {
   "cell_type": "code",
   "execution_count": 7,
   "id": "12d8a0c0",
   "metadata": {},
   "outputs": [
    {
     "name": "stdout",
     "output_type": "stream",
     "text": [
      "('wonseok', 4)\n",
      "('mydog', 3)\n",
      "('mother', 2)\n"
     ]
    }
   ],
   "source": [
    "mydict = {'wonseok':4, 'mydog': 3, 'mother':2}\n",
    "\n",
    "for i in mydict.items():\n",
    "    print(i)"
   ]
  },
  {
   "cell_type": "markdown",
   "id": "5b5b35f3",
   "metadata": {},
   "source": [
    "## For, While, try and except"
   ]
  },
  {
   "cell_type": "code",
   "execution_count": 13,
   "id": "f607af8d",
   "metadata": {},
   "outputs": [
    {
     "name": "stdout",
     "output_type": "stream",
     "text": [
      "0\n",
      "10\n",
      "20\n",
      "30\n",
      "40\n",
      "50\n",
      "60\n",
      "70\n",
      "80\n",
      "90\n"
     ]
    }
   ],
   "source": [
    "# for 문\n",
    "# 계산복잡도 O(n) 임\n",
    "\n",
    "for i in range(0,100):\n",
    "    if (i % 10) == 0 :\n",
    "        # 나머지가 0이면 print\n",
    "        print(i)"
   ]
  },
  {
   "cell_type": "code",
   "execution_count": 22,
   "id": "b0a8c4b1",
   "metadata": {},
   "outputs": [
    {
     "name": "stdout",
     "output_type": "stream",
     "text": [
      "i와 j의 곱은 53의 배수다\n",
      "i와 j의 곱은 53의 배수다\n",
      "i와 j의 곱은 53의 배수다\n",
      "i와 j의 곱은 53의 배수다\n",
      "i와 j의 곱은 53의 배수다\n",
      "i와 j의 곱은 53의 배수다\n",
      "i와 j의 곱은 53의 배수다\n",
      "i와 j의 곱은 53의 배수다\n",
      "i와 j의 곱은 53의 배수다\n",
      "i와 j의 곱은 53의 배수다\n",
      "i와 j의 곱은 53의 배수다\n",
      "i와 j의 곱은 53의 배수다\n",
      "i와 j의 곱은 53의 배수다\n",
      "i와 j의 곱은 53의 배수다\n",
      "i와 j의 곱은 53의 배수다\n",
      "i와 j의 곱은 53의 배수다\n",
      "i와 j의 곱은 53의 배수다\n",
      "i와 j의 곱은 53의 배수다\n",
      "i와 j의 곱은 53의 배수다\n",
      "i와 j의 곱은 53의 배수다\n",
      "i와 j의 곱은 53의 배수다\n",
      "i와 j의 곱은 53의 배수다\n",
      "i와 j의 곱은 53의 배수다\n",
      "i와 j의 곱은 53의 배수다\n",
      "i와 j의 곱은 53의 배수다\n",
      "i와 j의 곱은 53의 배수다\n",
      "i와 j의 곱은 53의 배수다\n",
      "i와 j의 곱은 53의 배수다\n",
      "i와 j의 곱은 53의 배수다\n"
     ]
    }
   ],
   "source": [
    "# 이중 for문\n",
    "# 계산 복잡도 O(n^2)\n",
    "\n",
    "for i in range(0, 20):\n",
    "    for j in range(0, 10):\n",
    "        if ((i * j) % 53) == 0 :\n",
    "            print('i와 j의 곱은 53의 배수다')"
   ]
  },
  {
   "cell_type": "markdown",
   "id": "9e434f53",
   "metadata": {},
   "source": [
    "list comprehension\n",
    "- 리스트 안에서 for문을 도는 것\n",
    "\n",
    "dictionary comprehension\n",
    "- 딕셔너리도 comprehension기능이 있음"
   ]
  },
  {
   "cell_type": "code",
   "execution_count": 24,
   "id": "bc50affe",
   "metadata": {},
   "outputs": [],
   "source": [
    "mylist = [i for i in range(1, 9)]"
   ]
  },
  {
   "cell_type": "code",
   "execution_count": 31,
   "id": "ad9e550c",
   "metadata": {},
   "outputs": [
    {
     "data": {
      "text/plain": [
       "[(0, 5),\n",
       " (1, 5),\n",
       " (2, 5),\n",
       " (3, 5),\n",
       " (4, 5),\n",
       " (5, 5),\n",
       " (6, 5),\n",
       " (0, 6),\n",
       " (1, 6),\n",
       " (2, 6),\n",
       " (3, 6),\n",
       " (4, 6),\n",
       " (5, 6),\n",
       " (6, 6),\n",
       " (0, 7),\n",
       " (1, 7),\n",
       " (2, 7),\n",
       " (3, 7),\n",
       " (4, 7),\n",
       " (5, 7),\n",
       " (6, 7)]"
      ]
     },
     "execution_count": 31,
     "metadata": {},
     "output_type": "execute_result"
    }
   ],
   "source": [
    "# 이중 for문 list comprehension\n",
    "\n",
    "mylist = [(i,j) for j in range(5,8) for i in range(0,7)] # 뒤에꺼가 먼저 돈다\n",
    "mylist"
   ]
  },
  {
   "cell_type": "code",
   "execution_count": 32,
   "id": "cf36e6dd",
   "metadata": {},
   "outputs": [
    {
     "data": {
      "text/plain": [
       "{0: 7, 1: 7, 2: 7, 3: 7, 4: 7, 5: 7, 6: 7}"
      ]
     },
     "execution_count": 32,
     "metadata": {},
     "output_type": "execute_result"
    }
   ],
   "source": [
    "{i:j for i,j in mylist}\n",
    "\n",
    "# 반복되는 키값은 갱신된다."
   ]
  },
  {
   "cell_type": "markdown",
   "id": "b81d4fae",
   "metadata": {},
   "source": [
    "While loop"
   ]
  },
  {
   "cell_type": "code",
   "execution_count": 36,
   "id": "49e1b6cd",
   "metadata": {},
   "outputs": [
    {
     "name": "stdout",
     "output_type": "stream",
     "text": [
      "a is True\n",
      "a is True\n",
      "a is True\n",
      "a is True\n",
      "a is True\n",
      "a is True\n",
      "a is True\n",
      "a is True\n",
      "a is True\n",
      "a is not true\n"
     ]
    }
   ],
   "source": [
    "count = 0\n",
    "a = True\n",
    "while a is True :\n",
    "# while a == True : 도 된다.\n",
    "    count += 1\n",
    "    if count == 10 :\n",
    "        a = False\n",
    "        print('a is not true')\n",
    "    else :\n",
    "        print('a is True')"
   ]
  },
  {
   "cell_type": "markdown",
   "id": "15bf7150",
   "metadata": {},
   "source": [
    "## IF else statements"
   ]
  },
  {
   "cell_type": "code",
   "execution_count": 40,
   "id": "24110963",
   "metadata": {},
   "outputs": [
    {
     "name": "stdout",
     "output_type": "stream",
     "text": [
      "조건이 충족되었습니다.\n"
     ]
    }
   ],
   "source": [
    "condition = True\n",
    "\n",
    "if condition : # boolean 값을 인자로 받음\n",
    "    print('조건이 충족되었습니다.')\n",
    "\n",
    "else :\n",
    "    print('조건이 충족되지 못했습니다.')"
   ]
  },
  {
   "cell_type": "code",
   "execution_count": 47,
   "id": "53073342",
   "metadata": {},
   "outputs": [
    {
     "name": "stdout",
     "output_type": "stream",
     "text": [
      "not okay\n"
     ]
    }
   ],
   "source": [
    "# 모든 객체는 True이다\n",
    "# 0은 boolean False\n",
    "# None도 False\n",
    "\n",
    "if 0 :\n",
    "    print('okay')\n",
    "else : \n",
    "    print('not okay')"
   ]
  },
  {
   "cell_type": "code",
   "execution_count": 46,
   "id": "e89f2e9f",
   "metadata": {},
   "outputs": [
    {
     "data": {
      "text/plain": [
       "False"
      ]
     },
     "execution_count": 46,
     "metadata": {},
     "output_type": "execute_result"
    }
   ],
   "source": [
    "bool(None)"
   ]
  },
  {
   "cell_type": "code",
   "execution_count": 52,
   "id": "34591de3",
   "metadata": {},
   "outputs": [
    {
     "name": "stdout",
     "output_type": "stream",
     "text": [
      "조건 1 성립\n",
      "조건 1 성립\n",
      "조건 2 성립\n"
     ]
    }
   ],
   "source": [
    "condition1 = True\n",
    "condition2 = True\n",
    "\n",
    "\n",
    "if condition1 :\n",
    "    print('조건 1 성립')\n",
    "    # 여기서 바로 빠져나옴\n",
    "elif condition2:\n",
    "    print('조건 2 성립')\n",
    "\n",
    "else :\n",
    "    print('아무 것도 성립하지 않았다')\n",
    "    \n",
    "\n",
    "# 이런 경우에는 어떻게 될까?\n",
    "if condition1 :\n",
    "    print('조건 1 성립')\n",
    "    # 여기서 바로 빠져나옴\n",
    "if condition2:\n",
    "    print('조건 2 성립')\n",
    "\n",
    "else :\n",
    "    print('아무 것도 성립하지 않았다')"
   ]
  },
  {
   "cell_type": "markdown",
   "id": "f0c338c2",
   "metadata": {},
   "source": [
    "## Try and Except\n",
    "- 에러를 관리하기 위한 방법\n",
    "\n",
    "```\n",
    "try : \n",
    "    연산.\n",
    "    \n",
    "except :\n",
    "    연산 혹은 raise error\n",
    "```"
   ]
  },
  {
   "cell_type": "code",
   "execution_count": 56,
   "id": "66b5c4e5",
   "metadata": {},
   "outputs": [
    {
     "name": "stdout",
     "output_type": "stream",
     "text": [
      "hello world!\n",
      "There is an error in the statement\n"
     ]
    }
   ],
   "source": [
    "try :\n",
    "    print('hello world!')\n",
    "    \n",
    "    df\n",
    "\n",
    "except :\n",
    "    print('There is an error in the statement')"
   ]
  },
  {
   "cell_type": "markdown",
   "id": "8abce343-92ce-451c-88bb-fe4ff487f21e",
   "metadata": {},
   "source": [
    "# Variable(변수)\n",
    "- 값을 저장해놓는 객체(존재)를 말한다.\n",
    "    - 숫자는 객체가 될 수 없다.\n",
    "    - 같은 이름을 가질 경우 가장 최근에 선언된 변수의 값이 객체에 덮어씌워진다.\n",
    "    \n",
    "  \n",
    "```\n",
    "my_name = 'Tom' # 변수를 \"선언\"했다.\n",
    "my_age = 20\n",
    "\n",
    "```\n",
    "\n",
    "- my_name --> 'Tom'을 가리키고 있다.\n",
    "- my_age --> 20을 가리키고 있다."
   ]
  },
  {
   "cell_type": "code",
   "execution_count": 52,
   "id": "d6a0cfd6-7f4f-4405-9b08-bb9acfaf7c7b",
   "metadata": {},
   "outputs": [],
   "source": [
    "my_name = 'Tom'\n",
    "my_age = 20"
   ]
  },
  {
   "cell_type": "code",
   "execution_count": 53,
   "id": "5d3caecc-2daa-4b17-977b-1c5eb4162feb",
   "metadata": {},
   "outputs": [
    {
     "data": {
      "text/plain": [
       "'Tom'"
      ]
     },
     "execution_count": 53,
     "metadata": {},
     "output_type": "execute_result"
    }
   ],
   "source": [
    "my_name"
   ]
  },
  {
   "cell_type": "markdown",
   "id": "e3055c87",
   "metadata": {},
   "source": [
    "# Function(함수)\n",
    "\n",
    "- input과 output이 있는 기본적인 프로그램\n",
    "- 함수의 구조\n",
    "\n",
    "```\n",
    "def 함수_이름(인자):\n",
    "\n",
    "    인자를 활용한 계산\n",
    "\n",
    "    return 결과값\n",
    "```"
   ]
  },
  {
   "cell_type": "code",
   "execution_count": 58,
   "id": "0f03d705",
   "metadata": {},
   "outputs": [],
   "source": [
    "def myfunction(my_input):\n",
    "    print(f'this is {my_input}')\n",
    "    return 0"
   ]
  },
  {
   "cell_type": "code",
   "execution_count": 59,
   "id": "761a3bdf",
   "metadata": {},
   "outputs": [
    {
     "name": "stdout",
     "output_type": "stream",
     "text": [
      "this is hello world\n"
     ]
    },
    {
     "data": {
      "text/plain": [
       "0"
      ]
     },
     "execution_count": 59,
     "metadata": {},
     "output_type": "execute_result"
    }
   ],
   "source": [
    "myfunction('hello world')"
   ]
  },
  {
   "cell_type": "code",
   "execution_count": 6,
   "id": "80ef1f29",
   "metadata": {},
   "outputs": [],
   "source": [
    "def my_calculator(a, b, operation):\n",
    "    '''\n",
    "    docstring : 이 함수는 인자 a, b를 받고 operation을 진행해서 반환합니다.\n",
    "    a, b : 숫자형이어야 함 (int or float)\n",
    "    operation : plus, minus, multiply, devide ; strings\n",
    "    '''\n",
    "    if operation == 'plus':\n",
    "        return a + b\n",
    "    elif operation == 'minus':\n",
    "        return a - b\n",
    "    elif operation == 'multiply' :\n",
    "        return a * b\n",
    "    else :\n",
    "        return a / b"
   ]
  },
  {
   "cell_type": "code",
   "execution_count": 8,
   "id": "2794da36-a634-4186-ba81-8e11c11a82fe",
   "metadata": {},
   "outputs": [
    {
     "data": {
      "text/plain": [
       "-8"
      ]
     },
     "execution_count": 8,
     "metadata": {},
     "output_type": "execute_result"
    }
   ],
   "source": [
    "my_calculator(2,10, 'minus')"
   ]
  },
  {
   "cell_type": "code",
   "execution_count": 11,
   "id": "93fb932c-7e2e-4b51-a3c6-9cdbb8109e29",
   "metadata": {},
   "outputs": [
    {
     "data": {
      "text/plain": [
       "\u001b[0;31mSignature:\u001b[0m \u001b[0mmy_calculator\u001b[0m\u001b[0;34m(\u001b[0m\u001b[0ma\u001b[0m\u001b[0;34m,\u001b[0m \u001b[0mb\u001b[0m\u001b[0;34m,\u001b[0m \u001b[0moperation\u001b[0m\u001b[0;34m)\u001b[0m\u001b[0;34m\u001b[0m\u001b[0;34m\u001b[0m\u001b[0m\n",
       "\u001b[0;31mDocstring:\u001b[0m\n",
       "docstring : 이 함수는 인자 a, b를 받고 operation을 진행해서 반환합니다.\n",
       "a, b : 숫자형이어야 함 (int or float)\n",
       "operation : plus, minus, multiply, devide ; strings\n",
       "\u001b[0;31mFile:\u001b[0m      /tmp/ipykernel_7140/1770798022.py\n",
       "\u001b[0;31mType:\u001b[0m      function\n"
      ]
     },
     "metadata": {},
     "output_type": "display_data"
    }
   ],
   "source": [
    "?my_calculator"
   ]
  },
  {
   "cell_type": "code",
   "execution_count": 14,
   "id": "5f038a60-b3d0-46c7-9d31-68bee5af9fb5",
   "metadata": {},
   "outputs": [
    {
     "data": {
      "text/plain": [
       "<function __main__.my_calculator(a, b, operation)>"
      ]
     },
     "execution_count": 14,
     "metadata": {},
     "output_type": "execute_result"
    }
   ],
   "source": [
    "# 함수의 호출\n",
    "\n",
    "my_calculator"
   ]
  },
  {
   "cell_type": "code",
   "execution_count": 16,
   "id": "113871ca-639f-419d-a073-c79b833b0649",
   "metadata": {},
   "outputs": [
    {
     "ename": "TypeError",
     "evalue": "my_calculator() missing 3 required positional arguments: 'a', 'b', and 'operation'",
     "output_type": "error",
     "traceback": [
      "\u001b[0;31m---------------------------------------------------------------------------\u001b[0m",
      "\u001b[0;31mTypeError\u001b[0m                                 Traceback (most recent call last)",
      "\u001b[0;32m/tmp/ipykernel_7140/495975161.py\u001b[0m in \u001b[0;36m<module>\u001b[0;34m\u001b[0m\n\u001b[1;32m      1\u001b[0m \u001b[0;31m# 함수(*)는 함수를 실행시키는 것이다. 이를 **호출한다**라고 표현합니다.\u001b[0m\u001b[0;34m\u001b[0m\u001b[0;34m\u001b[0m\u001b[0m\n\u001b[0;32m----> 2\u001b[0;31m \u001b[0mmy_calculator\u001b[0m\u001b[0;34m(\u001b[0m\u001b[0;34m)\u001b[0m\u001b[0;34m\u001b[0m\u001b[0;34m\u001b[0m\u001b[0m\n\u001b[0m",
      "\u001b[0;31mTypeError\u001b[0m: my_calculator() missing 3 required positional arguments: 'a', 'b', and 'operation'"
     ]
    }
   ],
   "source": [
    "# 함수(*)는 함수를 실행시키는 것이다. 이를 **호출한다**라고 표현합니다.\n",
    "\n",
    "my_calculator()"
   ]
  },
  {
   "cell_type": "markdown",
   "id": "d7b68a4b-649c-4899-bc94-07b232831ec5",
   "metadata": {},
   "source": [
    "파이썬 함수는 입력할 수 있는 인자들이 여러개 있습니다.\n",
    "- 그냥 인자\n",
    "- *args\n",
    "- **kwargs"
   ]
  },
  {
   "cell_type": "code",
   "execution_count": 27,
   "id": "02a31004-1e0f-4998-9d7c-aa8eff2e20b0",
   "metadata": {},
   "outputs": [],
   "source": [
    "# *args로 해줄 경우에 들어갈 인자의 제한을 없애주게 됨\n",
    "\n",
    "def args_function(*args):\n",
    "    \n",
    "    print(\"args는 이렇게 나타남\")\n",
    "    print(f\"{args}\")\n",
    "    \n",
    "    pass\n",
    "\n",
    "def kwargs_function(**kwargs):\n",
    "    \n",
    "    print(\"kwargs는 이렇게 나타남\")\n",
    "    print(f\"{kwargs}\")\n",
    "    \n",
    "    pass    "
   ]
  },
  {
   "cell_type": "code",
   "execution_count": 28,
   "id": "dbbb9e23-5b77-4502-a9c7-c148635ba255",
   "metadata": {},
   "outputs": [
    {
     "name": "stdout",
     "output_type": "stream",
     "text": [
      "args는 이렇게 나타남\n",
      "('a', 'bananna', 10)\n"
     ]
    }
   ],
   "source": [
    "args_function('a', 'bananna', 10)"
   ]
  },
  {
   "cell_type": "code",
   "execution_count": 30,
   "id": "0e60c42d-658b-4cac-85be-f5fd584f6d24",
   "metadata": {},
   "outputs": [
    {
     "name": "stdout",
     "output_type": "stream",
     "text": [
      "kwargs는 이렇게 나타남\n",
      "{'name': 'Wonseok', 'age': 15, 'location': 'Seocho'}\n"
     ]
    }
   ],
   "source": [
    "kwargs_function(name='Wonseok', age = 15, location='Seocho')"
   ]
  },
  {
   "cell_type": "markdown",
   "id": "3d4bcd67-c862-4125-b78c-5c59445bbe38",
   "metadata": {},
   "source": [
    "## 지역변수와 전역변수\n",
    "- 지역변수 : 함수나 객체 내에서 정의된 변수\n",
    "- 전역변수 : 연산 전체 과정에서 정의된 변수"
   ]
  },
  {
   "cell_type": "code",
   "execution_count": 66,
   "id": "35909ba0-d8ba-4845-9d44-ad87ac55feaa",
   "metadata": {},
   "outputs": [
    {
     "name": "stdout",
     "output_type": "stream",
     "text": [
      "이게 지역변수입니다 : 10\n"
     ]
    }
   ],
   "source": [
    "# 지역변수 Local variable 예시\n",
    "\n",
    "def my_simple_function(argument1):\n",
    "    \n",
    "    local_variable = argument1\n",
    "    print(f\"이게 지역변수입니다 : {local_variable}\")\n",
    "    pass\n",
    "\n",
    "\n",
    "my_simple_function(10)"
   ]
  },
  {
   "cell_type": "code",
   "execution_count": 67,
   "id": "6deae4a7-140e-42e1-b517-b70406c2a581",
   "metadata": {},
   "outputs": [
    {
     "ename": "NameError",
     "evalue": "name 'local_variable' is not defined",
     "output_type": "error",
     "traceback": [
      "\u001b[0;31m---------------------------------------------------------------------------\u001b[0m",
      "\u001b[0;31mNameError\u001b[0m                                 Traceback (most recent call last)",
      "\u001b[0;32m/tmp/ipykernel_7140/2970638315.py\u001b[0m in \u001b[0;36m<module>\u001b[0;34m\u001b[0m\n\u001b[1;32m      1\u001b[0m \u001b[0;31m# 셀상에서 찾아보면 없다고 나온다.\u001b[0m\u001b[0;34m\u001b[0m\u001b[0;34m\u001b[0m\u001b[0m\n\u001b[0;32m----> 2\u001b[0;31m \u001b[0mlocal_variable\u001b[0m\u001b[0;34m\u001b[0m\u001b[0;34m\u001b[0m\u001b[0m\n\u001b[0m",
      "\u001b[0;31mNameError\u001b[0m: name 'local_variable' is not defined"
     ]
    }
   ],
   "source": [
    "# 셀상에서 찾아보면 없다고 나온다.\n",
    "local_variable"
   ]
  },
  {
   "cell_type": "code",
   "execution_count": 71,
   "id": "f17e518c-c0a0-49e0-b47c-6879f7cb3c8a",
   "metadata": {},
   "outputs": [
    {
     "name": "stdout",
     "output_type": "stream",
     "text": [
      "이게 지역변수입니다 : local variable argument\n",
      "이건 전역변수입니다 : New_name\n"
     ]
    }
   ],
   "source": [
    "global_variable = 'Thomas'\n",
    "\n",
    "def my_simple_function(argument1):\n",
    "    \n",
    "    local_variable = argument1\n",
    "    global global_variable \n",
    "    \n",
    "    global_variable = \"New_name\"\n",
    "    \n",
    "    print(f\"이게 지역변수입니다 : {local_variable}\")\n",
    "    \n",
    "    print(f\"이건 전역변수입니다 : {global_variable}\")\n",
    "    pass\n",
    "\n",
    "my_simple_function('local variable argument')"
   ]
  },
  {
   "cell_type": "code",
   "execution_count": 73,
   "id": "20f06085-5eda-4a78-b7b6-6bfd31016962",
   "metadata": {},
   "outputs": [
    {
     "data": {
      "text/plain": [
       "'New_name'"
      ]
     },
     "execution_count": 73,
     "metadata": {},
     "output_type": "execute_result"
    }
   ],
   "source": [
    "global_variable"
   ]
  },
  {
   "cell_type": "markdown",
   "id": "76f01431-f012-4e48-8925-2e9a1e4edec1",
   "metadata": {},
   "source": [
    "## Input 입력 함수"
   ]
  },
  {
   "cell_type": "code",
   "execution_count": 79,
   "id": "c7128b7f-7216-45f0-90dc-02a49a289f42",
   "metadata": {},
   "outputs": [
    {
     "name": "stdin",
     "output_type": "stream",
     "text": [
      " 사과\n"
     ]
    },
    {
     "name": "stdout",
     "output_type": "stream",
     "text": [
      "입력된 것은 사과 입니다\n"
     ]
    }
   ],
   "source": [
    "# input 함수\n",
    "\n",
    "something_you_write = input()\n",
    "\n",
    "print(f'입력된 것은 {something_you_write} 입니다')"
   ]
  },
  {
   "cell_type": "code",
   "execution_count": 80,
   "id": "b58ff981-515e-4138-80a8-35ed9a94152c",
   "metadata": {},
   "outputs": [
    {
     "name": "stdin",
     "output_type": "stream",
     "text": [
      " 사과\n",
      " 바나나\n"
     ]
    },
    {
     "name": "stdout",
     "output_type": "stream",
     "text": [
      "입력된 것 첫번째는 사과 입니다\n",
      "입력된 것 두번째는 바나나 입니다\n"
     ]
    }
   ],
   "source": [
    "something_you_write1 = input()\n",
    "something_you_write2 = input()\n",
    "\n",
    "print(f'입력된 것 첫번째는 {something_you_write1} 입니다')\n",
    "print(f'입력된 것 두번째는 {something_you_write2} 입니다')"
   ]
  },
  {
   "cell_type": "markdown",
   "id": "f20c39f3-6f0d-4fc7-8e8b-eecb8131a4ab",
   "metadata": {
    "tags": []
   },
   "source": [
    "## Practice (연습문제)\n",
    "\n",
    "1. 사용자(user)가 왔을 때, 닉네임과 비밀번호를 입력하게 만들고 그것을 변수에 저장한 후 저장된 변수를 반환하는 함수를 만드시오.\n",
    "- hint1 : input 함수를 사용할 것\n",
    "- hint2 : 인터넷에 input 함수를 검색\n",
    "\n",
    "2. 위에서 만든 함수를 새롭게 추가하여 닉네임에 메일을 달아주는 함수를 만들어라"
   ]
  },
  {
   "cell_type": "code",
   "execution_count": 88,
   "id": "36b1d5a8-af62-4e30-bb64-0b3e41afd85f",
   "metadata": {},
   "outputs": [],
   "source": [
    "def save_user_information():\n",
    "    print('please input your user name')\n",
    "    user_name = input()\n",
    "    print('please input your pass word')\n",
    "    user_password = input()\n",
    "    return user_name, user_password"
   ]
  },
  {
   "cell_type": "code",
   "execution_count": 89,
   "id": "3364fb90-4951-455a-9ad1-b48eaeb106ba",
   "metadata": {},
   "outputs": [
    {
     "name": "stdout",
     "output_type": "stream",
     "text": [
      "please input your user name\n"
     ]
    },
    {
     "name": "stdin",
     "output_type": "stream",
     "text": [
      " sally\n"
     ]
    },
    {
     "name": "stdout",
     "output_type": "stream",
     "text": [
      "please input your pass word\n"
     ]
    },
    {
     "name": "stdin",
     "output_type": "stream",
     "text": [
      " sally123\n"
     ]
    },
    {
     "data": {
      "text/plain": [
       "('sally', 'sally123')"
      ]
     },
     "execution_count": 89,
     "metadata": {},
     "output_type": "execute_result"
    }
   ],
   "source": [
    "save_user_information()"
   ]
  },
  {
   "cell_type": "code",
   "execution_count": 90,
   "id": "cb8cd450-1286-417f-902e-7eae7cee068c",
   "metadata": {},
   "outputs": [],
   "source": [
    "def save_user_information():\n",
    "    print('please input your user name')\n",
    "    user_name = input()\n",
    "    print('please input your pass word')\n",
    "    user_password = input()\n",
    "    \n",
    "    user_info = {\"user\":user_name, \"password\":user_password, \"email\":user_name+\"@email.com\"}\n",
    "    return user_info"
   ]
  },
  {
   "cell_type": "code",
   "execution_count": 92,
   "id": "fc40d625-8ee7-423c-9582-e1946145ee4d",
   "metadata": {},
   "outputs": [
    {
     "name": "stdout",
     "output_type": "stream",
     "text": [
      "please input your user name\n"
     ]
    },
    {
     "name": "stdin",
     "output_type": "stream",
     "text": [
      " sally\n"
     ]
    },
    {
     "name": "stdout",
     "output_type": "stream",
     "text": [
      "please input your pass word\n"
     ]
    },
    {
     "name": "stdin",
     "output_type": "stream",
     "text": [
      " sally123\n"
     ]
    },
    {
     "name": "stdout",
     "output_type": "stream",
     "text": [
      "please input your user name\n"
     ]
    },
    {
     "name": "stdin",
     "output_type": "stream",
     "text": [
      " bob\n"
     ]
    },
    {
     "name": "stdout",
     "output_type": "stream",
     "text": [
      "please input your pass word\n"
     ]
    },
    {
     "name": "stdin",
     "output_type": "stream",
     "text": [
      " bob123\n"
     ]
    }
   ],
   "source": [
    "b1 = save_user_information()\n",
    "b2 = save_user_information()"
   ]
  },
  {
   "cell_type": "code",
   "execution_count": 94,
   "id": "f5446937-f208-4ab1-b0a1-383631742ff1",
   "metadata": {},
   "outputs": [],
   "source": [
    "b1.update(b2)"
   ]
  },
  {
   "cell_type": "markdown",
   "id": "d36dbe0e-2731-4cdb-85e3-2f3aae63d55e",
   "metadata": {},
   "source": [
    "## Lambda 함수\n",
    "```\n",
    "lambda input_value : operation\n",
    "```\n",
    "- 호출될 때만 메모리로 올라오는 함수\n",
    "\n",
    "## map 함수\n",
    "```\n",
    "map(function, list)\n",
    "```\n",
    "- 같은 연산을 list에 있는 모든 값들에 대해서 적용하고 싶을 때 사용할 수 있음\n",
    "\n",
    "## filter 함수\n",
    "```\n",
    "filter(function, list) \n",
    "```\n",
    "- 리스트에서 True를 반환하는 요소들에 대해서만 걸러서 주는 함수"
   ]
  },
  {
   "cell_type": "code",
   "execution_count": 88,
   "id": "a7f5f292-11bd-4efd-9e68-8998a32bb191",
   "metadata": {},
   "outputs": [],
   "source": [
    "f = lambda x : x + 2"
   ]
  },
  {
   "cell_type": "code",
   "execution_count": 89,
   "id": "40881362-1a20-46e5-b8d0-0845720f43dc",
   "metadata": {},
   "outputs": [
    {
     "data": {
      "text/plain": [
       "3"
      ]
     },
     "execution_count": 89,
     "metadata": {},
     "output_type": "execute_result"
    }
   ],
   "source": [
    "f(1)"
   ]
  },
  {
   "cell_type": "code",
   "execution_count": 91,
   "id": "fea3baf7-c06f-44bc-a96c-313de2eff277",
   "metadata": {},
   "outputs": [],
   "source": [
    "def plus_2(x): return x + 2"
   ]
  },
  {
   "cell_type": "code",
   "execution_count": 93,
   "id": "07e322c8-525f-4c2d-83a6-5485df83d9c9",
   "metadata": {},
   "outputs": [
    {
     "data": {
      "text/plain": [
       "3"
      ]
     },
     "execution_count": 93,
     "metadata": {},
     "output_type": "execute_result"
    }
   ],
   "source": [
    "plus_2(1)"
   ]
  }
 ],
 "metadata": {
  "kernelspec": {
   "display_name": "Python 3 (ipykernel)",
   "language": "python",
   "name": "python3"
  },
  "language_info": {
   "codemirror_mode": {
    "name": "ipython",
    "version": 3
   },
   "file_extension": ".py",
   "mimetype": "text/x-python",
   "name": "python",
   "nbconvert_exporter": "python",
   "pygments_lexer": "ipython3",
   "version": "3.9.13"
  },
  "vscode": {
   "interpreter": {
    "hash": "e7370f93d1d0cde622a1f8e1c04877d8463912d04d973331ad4851f04de6915a"
   }
  }
 },
 "nbformat": 4,
 "nbformat_minor": 5
}
