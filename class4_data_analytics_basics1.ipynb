{
 "cells": [
  {
   "cell_type": "markdown",
   "id": "584dda2b",
   "metadata": {},
   "source": [
    "# Recap\n",
    "- class\n",
    "    - 상속\n",
    "    \n",
    "- decorator\n",
    "    - classmethod\n",
    "    - staticmethod\n",
    "\n",
    "- functional programming\n",
    "    - iterator\n",
    "    - generator\n"
   ]
  },
  {
   "cell_type": "markdown",
   "id": "93cac891-95a6-4c35-b88c-d32105276d33",
   "metadata": {},
   "source": [
    "# 파이썬을 이용한 기본적인 input, output\n",
    "- open기본 내장함수를 이용\n",
    "    - open\n",
    "        ```\n",
    "        open(file_name, mode)\n",
    "        ```\n",
    "    - 읽기\n",
    "        ```\n",
    "        open(file_name, 'r') # r대신 rb도 씀\n",
    "        ```\n",
    "    - 쓰기\n",
    "        ```\n",
    "        open(file_name, 'w') # w대신 wb도 씀\n",
    "        ```\n",
    "- with문을 이용"
   ]
  },
  {
   "cell_type": "code",
   "execution_count": 1,
   "id": "1ffc6efc-12b3-4e55-8a69-76db2ffd22f8",
   "metadata": {},
   "outputs": [],
   "source": [
    "f = open('my_text.txt','w')\n",
    "\n",
    "f.write('hello this is the first line')\n",
    "f.close()"
   ]
  },
  {
   "cell_type": "code",
   "execution_count": 2,
   "id": "3cd33fc1-e662-402b-a535-63e1adcb4ec4",
   "metadata": {},
   "outputs": [
    {
     "data": {
      "text/plain": [
       "'hello this is the first line'"
      ]
     },
     "execution_count": 2,
     "metadata": {},
     "output_type": "execute_result"
    }
   ],
   "source": [
    "r = open('my_text.txt', 'r')\n",
    "r.readline()"
   ]
  },
  {
   "cell_type": "code",
   "execution_count": 3,
   "id": "59eb348f-65d3-4de8-a47f-45f5c936ba45",
   "metadata": {},
   "outputs": [],
   "source": [
    "with open('my_new_text.txt','w') as f:\n",
    "    f.write('''\n",
    "    여기서 이렇게 글을 쓰고 하면 \\n\n",
    "    글이 적히고 with 문이 끝나면 \\n\n",
    "    바로 파일이 닫힌다.\n",
    "    ''')"
   ]
  },
  {
   "cell_type": "code",
   "execution_count": 4,
   "id": "1f3e5897-9723-4c0d-bdcf-93049865294c",
   "metadata": {},
   "outputs": [
    {
     "name": "stdout",
     "output_type": "stream",
     "text": [
      "\n",
      "    여기서 이렇게 글을 쓰고 하면 \n",
      "\n",
      "    글이 적히고 with 문이 끝나면 \n",
      "\n",
      "    바로 파일이 닫힌다.\n",
      "    \n"
     ]
    }
   ],
   "source": [
    "with open('my_new_text.txt', 'r') as f:\n",
    "    # lines = f.readlines()\n",
    "    lines = f.read()\n",
    "    print(lines)"
   ]
  },
  {
   "cell_type": "code",
   "execution_count": 5,
   "id": "fa35b662-2d4b-47ae-802c-b040dd7d8969",
   "metadata": {},
   "outputs": [
    {
     "name": "stderr",
     "output_type": "stream",
     "text": [
      "UsageError: Line magic function `%%writefile` not found.\n"
     ]
    }
   ],
   "source": [
    "# 매직매서드를 이용한 파일 생성\n",
    "\n",
    "%%writefile my_text.txt\n",
    "\n",
    "\"\"\"\n",
    "hello, this is the first line.\n",
    "And this is the next line\n",
    "\"\"\""
   ]
  },
  {
   "cell_type": "markdown",
   "id": "4efa5bf2",
   "metadata": {},
   "source": [
    "# Data Analytics Beginning\n",
    "- 기본적인 라이브러리\n",
    "    - numpy : 행렬을 다루는 라이브러리 -> 여기서는 다루진 않겠음\n",
    "        - 선형대수적 연산을 할 수 있음\n",
    "        - 많은 계산량이 필요할 때 종종 쓰이는 라이브러리. (C와 연동되어 있다)\n",
    "    - pandas : 데이터를 다루는 라이브러리\n",
    "        - csv, excel, xml등의 형식들을 다룰 수 있음\n",
    "    - matplotlib : 데이터를 그림 그리는데 사용하는 라이브러리\n",
    "\n",
    "- 공부방법\n",
    "    - documentation을 읽는다.\n",
    "    - 알고 싶은 것들을 구글링한다.\n",
    "    "
   ]
  },
  {
   "cell_type": "code",
   "execution_count": 14,
   "id": "924f9bbe",
   "metadata": {},
   "outputs": [],
   "source": [
    "import numpy as np"
   ]
  },
  {
   "cell_type": "code",
   "execution_count": 15,
   "id": "80d5a873",
   "metadata": {},
   "outputs": [],
   "source": [
    "myarray = np.array([[1,2,3],\n",
    "         [4,5,6],\n",
    "         [7,8,9]])"
   ]
  },
  {
   "cell_type": "code",
   "execution_count": 16,
   "id": "dfea42fc",
   "metadata": {},
   "outputs": [
    {
     "data": {
      "text/plain": [
       "array([[1, 2, 3],\n",
       "       [4, 5, 6],\n",
       "       [7, 8, 9]])"
      ]
     },
     "execution_count": 16,
     "metadata": {},
     "output_type": "execute_result"
    }
   ],
   "source": [
    "myarray"
   ]
  },
  {
   "cell_type": "markdown",
   "id": "e078040a",
   "metadata": {},
   "source": [
    "# Pandas\n",
    "- Series : pandas에서 배열 클래스. 동일한 데이터 타입의 값을 가진다.\n",
    "- DataFrame : 여러개의 Series를 모아놓은 데이터프레임"
   ]
  },
  {
   "cell_type": "markdown",
   "id": "9434e32d",
   "metadata": {},
   "source": [
    "## Series"
   ]
  },
  {
   "cell_type": "code",
   "execution_count": 1,
   "id": "fc3a8d75",
   "metadata": {},
   "outputs": [],
   "source": [
    "import pandas as pd"
   ]
  },
  {
   "cell_type": "code",
   "execution_count": 32,
   "id": "c1afad2e",
   "metadata": {},
   "outputs": [
    {
     "data": {
      "text/plain": [
       "0    3\n",
       "1    2\n",
       "2    9\n",
       "3    7\n",
       "4    3\n",
       "dtype: int64"
      ]
     },
     "execution_count": 32,
     "metadata": {},
     "output_type": "execute_result"
    }
   ],
   "source": [
    "series = pd.Series(np.random.randint(10,size=5))\n",
    "series"
   ]
  },
  {
   "cell_type": "code",
   "execution_count": 35,
   "id": "e44cbca4",
   "metadata": {},
   "outputs": [
    {
     "data": {
      "text/plain": [
       "array([5, 1, 4, 9, 6])"
      ]
     },
     "execution_count": 35,
     "metadata": {},
     "output_type": "execute_result"
    }
   ],
   "source": [
    "# index 설정\n",
    "\n",
    "data = pd.Series(np.random.randint(10, size=5),\n",
    "                index=list(\"ABCDE\"))\n",
    "# data.index\n",
    "data.values"
   ]
  },
  {
   "cell_type": "code",
   "execution_count": 37,
   "id": "ce5555c6",
   "metadata": {},
   "outputs": [
    {
     "data": {
      "text/plain": [
       "4"
      ]
     },
     "execution_count": 37,
     "metadata": {},
     "output_type": "execute_result"
    }
   ],
   "source": [
    "# 이렇게 인덱스를 부르면 해당하는 값도 반환한다.\n",
    "data['C'] "
   ]
  },
  {
   "cell_type": "code",
   "execution_count": 41,
   "id": "91cb7db3",
   "metadata": {},
   "outputs": [
    {
     "data": {
      "text/plain": [
       "A    5\n",
       "C    4\n",
       "E    6\n",
       "dtype: int64"
      ]
     },
     "execution_count": 41,
     "metadata": {},
     "output_type": "execute_result"
    }
   ],
   "source": [
    "# 인덱싱\n",
    "\n",
    "data[:2]\n",
    "data[0::2]\n"
   ]
  },
  {
   "cell_type": "code",
   "execution_count": 43,
   "id": "779c99f7",
   "metadata": {},
   "outputs": [
    {
     "data": {
      "text/plain": [
       "D    3\n",
       "E    5\n",
       "F    7\n",
       "dtype: int64"
      ]
     },
     "execution_count": 43,
     "metadata": {},
     "output_type": "execute_result"
    }
   ],
   "source": [
    "# 이렇게 Series를 선언해도 된다.\n",
    "\n",
    "data2 = pd.Series({'D':3, 'E':5, 'F':7})\n",
    "data2"
   ]
  },
  {
   "cell_type": "code",
   "execution_count": 47,
   "id": "402e4daa",
   "metadata": {},
   "outputs": [
    {
     "data": {
      "text/plain": [
       "A     NaN\n",
       "B     NaN\n",
       "C     NaN\n",
       "D    12.0\n",
       "E    11.0\n",
       "F     NaN\n",
       "dtype: float64"
      ]
     },
     "execution_count": 47,
     "metadata": {},
     "output_type": "execute_result"
    }
   ],
   "source": [
    "# 같은 인덱스에 해당하는 정보들끼리 서로 연산도 가능함\n",
    "\n",
    "result = data + data2 \n",
    "result"
   ]
  },
  {
   "cell_type": "code",
   "execution_count": 51,
   "id": "3d1a5d14",
   "metadata": {},
   "outputs": [
    {
     "data": {
      "text/plain": [
       "A     5.0\n",
       "B     1.0\n",
       "C     4.0\n",
       "D    12.0\n",
       "E    11.0\n",
       "F     NaN\n",
       "dtype: float64"
      ]
     },
     "execution_count": 51,
     "metadata": {},
     "output_type": "execute_result"
    }
   ],
   "source": [
    "# 마스킹\n",
    "result[result.isnull()] = data\n",
    "result"
   ]
  },
  {
   "cell_type": "code",
   "execution_count": 55,
   "id": "9deb2586",
   "metadata": {},
   "outputs": [
    {
     "data": {
      "text/plain": [
       "A     5.0\n",
       "B     1.0\n",
       "C     4.0\n",
       "D    12.0\n",
       "E    11.0\n",
       "F     7.0\n",
       "dtype: float64"
      ]
     },
     "execution_count": 55,
     "metadata": {},
     "output_type": "execute_result"
    }
   ],
   "source": [
    "result[result.isnull()] = data2\n",
    "result"
   ]
  },
  {
   "cell_type": "markdown",
   "id": "ef5ff704",
   "metadata": {},
   "source": [
    "## DataFrame\n",
    "- Series를 여러개 모아놓은 케이스\n",
    "- index뿐 아니라 컬럼명이 존재함\n",
    "- DataFrame 생성방법 :\n",
    "    - 딕셔너리 안에 리스트\n",
    "    - 리스트 안에 딕셔너리 "
   ]
  },
  {
   "cell_type": "markdown",
   "id": "82fb6aff",
   "metadata": {},
   "source": [
    "딕셔너리 안에 리스트"
   ]
  },
  {
   "cell_type": "code",
   "execution_count": 109,
   "id": "e9ca7ce7",
   "metadata": {},
   "outputs": [
    {
     "data": {
      "text/html": [
       "<div>\n",
       "<style scoped>\n",
       "    .dataframe tbody tr th:only-of-type {\n",
       "        vertical-align: middle;\n",
       "    }\n",
       "\n",
       "    .dataframe tbody tr th {\n",
       "        vertical-align: top;\n",
       "    }\n",
       "\n",
       "    .dataframe thead th {\n",
       "        text-align: right;\n",
       "    }\n",
       "</style>\n",
       "<table border=\"1\" class=\"dataframe\">\n",
       "  <thead>\n",
       "    <tr style=\"text-align: right;\">\n",
       "      <th></th>\n",
       "      <th>name</th>\n",
       "      <th>age</th>\n",
       "      <th>location</th>\n",
       "      <th>e-mail</th>\n",
       "    </tr>\n",
       "  </thead>\n",
       "  <tbody>\n",
       "    <tr>\n",
       "      <th>0</th>\n",
       "      <td>tom</td>\n",
       "      <td>30</td>\n",
       "      <td>Seoul</td>\n",
       "      <td>tom@naver.com</td>\n",
       "    </tr>\n",
       "    <tr>\n",
       "      <th>1</th>\n",
       "      <td>sally</td>\n",
       "      <td>31</td>\n",
       "      <td>Seoul</td>\n",
       "      <td>None</td>\n",
       "    </tr>\n",
       "    <tr>\n",
       "      <th>2</th>\n",
       "      <td>yujin</td>\n",
       "      <td>23</td>\n",
       "      <td>Ilsan</td>\n",
       "      <td>None</td>\n",
       "    </tr>\n",
       "    <tr>\n",
       "      <th>3</th>\n",
       "      <td>carl</td>\n",
       "      <td>40</td>\n",
       "      <td>Newyork</td>\n",
       "      <td>None</td>\n",
       "    </tr>\n",
       "  </tbody>\n",
       "</table>\n",
       "</div>"
      ],
      "text/plain": [
       "    name  age location         e-mail\n",
       "0    tom   30    Seoul  tom@naver.com\n",
       "1  sally   31    Seoul           None\n",
       "2  yujin   23    Ilsan           None\n",
       "3   carl   40  Newyork           None"
      ]
     },
     "execution_count": 109,
     "metadata": {},
     "output_type": "execute_result"
    }
   ],
   "source": [
    "df = pd.DataFrame(\n",
    "    {\n",
    "    \"name\":[\"tom\",\"sally\", 'yujin', 'carl'],\n",
    "    \"age\" : [30, 31, 23, 40],\n",
    "    \"location\" : [\"Seoul\", \"Seoul\", \"Ilsan\", \"Newyork\"],\n",
    "    \"e-mail\" : ['tom@naver.com',None,None,None]\n",
    "    }\n",
    ")\n",
    "\n",
    "df"
   ]
  },
  {
   "cell_type": "markdown",
   "id": "82627fb6",
   "metadata": {},
   "source": [
    "리스트 안에 딕셔너리"
   ]
  },
  {
   "cell_type": "code",
   "execution_count": 57,
   "id": "b9ddf0de",
   "metadata": {},
   "outputs": [
    {
     "data": {
      "text/html": [
       "<div>\n",
       "<style scoped>\n",
       "    .dataframe tbody tr th:only-of-type {\n",
       "        vertical-align: middle;\n",
       "    }\n",
       "\n",
       "    .dataframe tbody tr th {\n",
       "        vertical-align: top;\n",
       "    }\n",
       "\n",
       "    .dataframe thead th {\n",
       "        text-align: right;\n",
       "    }\n",
       "</style>\n",
       "<table border=\"1\" class=\"dataframe\">\n",
       "  <thead>\n",
       "    <tr style=\"text-align: right;\">\n",
       "      <th></th>\n",
       "      <th>name</th>\n",
       "      <th>age</th>\n",
       "      <th>location</th>\n",
       "    </tr>\n",
       "  </thead>\n",
       "  <tbody>\n",
       "    <tr>\n",
       "      <th>0</th>\n",
       "      <td>tom</td>\n",
       "      <td>30</td>\n",
       "      <td>Seoul</td>\n",
       "    </tr>\n",
       "    <tr>\n",
       "      <th>1</th>\n",
       "      <td>sally</td>\n",
       "      <td>31</td>\n",
       "      <td>Seoul</td>\n",
       "    </tr>\n",
       "    <tr>\n",
       "      <th>2</th>\n",
       "      <td>yujin</td>\n",
       "      <td>23</td>\n",
       "      <td>Ilsan</td>\n",
       "    </tr>\n",
       "    <tr>\n",
       "      <th>3</th>\n",
       "      <td>carl</td>\n",
       "      <td>40</td>\n",
       "      <td>Newyork</td>\n",
       "    </tr>\n",
       "  </tbody>\n",
       "</table>\n",
       "</div>"
      ],
      "text/plain": [
       "    name  age location\n",
       "0    tom   30    Seoul\n",
       "1  sally   31    Seoul\n",
       "2  yujin   23    Ilsan\n",
       "3   carl   40  Newyork"
      ]
     },
     "execution_count": 57,
     "metadata": {},
     "output_type": "execute_result"
    }
   ],
   "source": [
    "pd.DataFrame(\n",
    "    [\n",
    "        {\"name\":\"tom\", \"age\":30, \"location\":\"Seoul\"},\n",
    "        {\"name\":\"sally\", \"age\":31, \"location\":\"Seoul\"},\n",
    "        {\"name\":\"yujin\", \"age\":23, \"location\":\"Ilsan\"},\n",
    "        {\"name\":\"carl\", \"age\":40, \"location\":\"Newyork\"},\n",
    "    ]\n",
    ")"
   ]
  },
  {
   "cell_type": "code",
   "execution_count": 59,
   "id": "8bdf25d8",
   "metadata": {},
   "outputs": [
    {
     "data": {
      "text/plain": [
       "Index(['Name', 'Age', 'location', 'e-mail'], dtype='object')"
      ]
     },
     "execution_count": 59,
     "metadata": {},
     "output_type": "execute_result"
    }
   ],
   "source": [
    "df.columns"
   ]
  },
  {
   "cell_type": "code",
   "execution_count": 60,
   "id": "89e4a354",
   "metadata": {},
   "outputs": [
    {
     "data": {
      "text/plain": [
       "RangeIndex(start=0, stop=4, step=1)"
      ]
     },
     "execution_count": 60,
     "metadata": {},
     "output_type": "execute_result"
    }
   ],
   "source": [
    "df.index"
   ]
  },
  {
   "cell_type": "markdown",
   "id": "de15d51f",
   "metadata": {},
   "source": [
    "원하면 column, index를 수정할 수 있음"
   ]
  },
  {
   "cell_type": "code",
   "execution_count": 72,
   "id": "493c7325",
   "metadata": {},
   "outputs": [
    {
     "data": {
      "text/plain": [
       "Index(['name', 'age', 'location', 'e-mail'], dtype='object')"
      ]
     },
     "execution_count": 72,
     "metadata": {},
     "output_type": "execute_result"
    }
   ],
   "source": [
    "df.columns = ['name', 'age', 'location', 'e-mail']\n",
    "df.columns"
   ]
  },
  {
   "cell_type": "markdown",
   "id": "3c38513e",
   "metadata": {},
   "source": [
    "## Head and Tail"
   ]
  },
  {
   "cell_type": "code",
   "execution_count": 58,
   "id": "53885203",
   "metadata": {},
   "outputs": [
    {
     "data": {
      "text/html": [
       "<div>\n",
       "<style scoped>\n",
       "    .dataframe tbody tr th:only-of-type {\n",
       "        vertical-align: middle;\n",
       "    }\n",
       "\n",
       "    .dataframe tbody tr th {\n",
       "        vertical-align: top;\n",
       "    }\n",
       "\n",
       "    .dataframe thead th {\n",
       "        text-align: right;\n",
       "    }\n",
       "</style>\n",
       "<table border=\"1\" class=\"dataframe\">\n",
       "  <thead>\n",
       "    <tr style=\"text-align: right;\">\n",
       "      <th></th>\n",
       "      <th>Name</th>\n",
       "      <th>Age</th>\n",
       "      <th>location</th>\n",
       "      <th>e-mail</th>\n",
       "    </tr>\n",
       "  </thead>\n",
       "  <tbody>\n",
       "    <tr>\n",
       "      <th>2</th>\n",
       "      <td>yujin</td>\n",
       "      <td>23</td>\n",
       "      <td>Ilsan</td>\n",
       "      <td>None</td>\n",
       "    </tr>\n",
       "    <tr>\n",
       "      <th>3</th>\n",
       "      <td>carl</td>\n",
       "      <td>40</td>\n",
       "      <td>Newyork</td>\n",
       "      <td>None</td>\n",
       "    </tr>\n",
       "  </tbody>\n",
       "</table>\n",
       "</div>"
      ],
      "text/plain": [
       "    Name  Age location e-mail\n",
       "2  yujin   23    Ilsan   None\n",
       "3   carl   40  Newyork   None"
      ]
     },
     "execution_count": 58,
     "metadata": {},
     "output_type": "execute_result"
    }
   ],
   "source": [
    "df.head(2)\n",
    "\n",
    "df.tail(2)"
   ]
  },
  {
   "cell_type": "markdown",
   "id": "bf1f47a6",
   "metadata": {},
   "source": [
    "## Indexing"
   ]
  },
  {
   "cell_type": "code",
   "execution_count": 74,
   "id": "6731218f",
   "metadata": {},
   "outputs": [
    {
     "data": {
      "text/plain": [
       "31"
      ]
     },
     "execution_count": 74,
     "metadata": {},
     "output_type": "execute_result"
    }
   ],
   "source": [
    "df['age']\n",
    "\n",
    "df['age'][1]"
   ]
  },
  {
   "cell_type": "code",
   "execution_count": 75,
   "id": "4e46ac1c",
   "metadata": {},
   "outputs": [
    {
     "data": {
      "text/html": [
       "<div>\n",
       "<style scoped>\n",
       "    .dataframe tbody tr th:only-of-type {\n",
       "        vertical-align: middle;\n",
       "    }\n",
       "\n",
       "    .dataframe tbody tr th {\n",
       "        vertical-align: top;\n",
       "    }\n",
       "\n",
       "    .dataframe thead th {\n",
       "        text-align: right;\n",
       "    }\n",
       "</style>\n",
       "<table border=\"1\" class=\"dataframe\">\n",
       "  <thead>\n",
       "    <tr style=\"text-align: right;\">\n",
       "      <th></th>\n",
       "      <th>name</th>\n",
       "      <th>age</th>\n",
       "    </tr>\n",
       "  </thead>\n",
       "  <tbody>\n",
       "    <tr>\n",
       "      <th>1</th>\n",
       "      <td>sally</td>\n",
       "      <td>31</td>\n",
       "    </tr>\n",
       "    <tr>\n",
       "      <th>2</th>\n",
       "      <td>yujin</td>\n",
       "      <td>23</td>\n",
       "    </tr>\n",
       "  </tbody>\n",
       "</table>\n",
       "</div>"
      ],
      "text/plain": [
       "    name  age\n",
       "1  sally   31\n",
       "2  yujin   23"
      ]
     },
     "execution_count": 75,
     "metadata": {},
     "output_type": "execute_result"
    }
   ],
   "source": [
    "# index로 로케이션 찾을 수 있고\n",
    "df.iloc[1:3,1:3]\n",
    "\n",
    "# loc로 index및 컬럼 이름으로도 찾을 수 있음\n",
    "df.loc[1:2,[\"name\",\"age\"]]"
   ]
  },
  {
   "cell_type": "code",
   "execution_count": 82,
   "id": "d2cfdc75",
   "metadata": {},
   "outputs": [
    {
     "data": {
      "text/plain": [
       "'Seoul'"
      ]
     },
     "execution_count": 82,
     "metadata": {},
     "output_type": "execute_result"
    }
   ],
   "source": [
    "df.loc[1]['location']"
   ]
  },
  {
   "cell_type": "code",
   "execution_count": 92,
   "id": "5809d065",
   "metadata": {},
   "outputs": [
    {
     "data": {
      "text/html": [
       "<div>\n",
       "<style scoped>\n",
       "    .dataframe tbody tr th:only-of-type {\n",
       "        vertical-align: middle;\n",
       "    }\n",
       "\n",
       "    .dataframe tbody tr th {\n",
       "        vertical-align: top;\n",
       "    }\n",
       "\n",
       "    .dataframe thead th {\n",
       "        text-align: right;\n",
       "    }\n",
       "</style>\n",
       "<table border=\"1\" class=\"dataframe\">\n",
       "  <thead>\n",
       "    <tr style=\"text-align: right;\">\n",
       "      <th></th>\n",
       "      <th>name</th>\n",
       "      <th>age</th>\n",
       "      <th>location</th>\n",
       "      <th>e-mail</th>\n",
       "    </tr>\n",
       "  </thead>\n",
       "  <tbody>\n",
       "    <tr>\n",
       "      <th>0</th>\n",
       "      <td>tom</td>\n",
       "      <td>30</td>\n",
       "      <td>Seoul</td>\n",
       "      <td>tom@naver.com</td>\n",
       "    </tr>\n",
       "    <tr>\n",
       "      <th>1</th>\n",
       "      <td>sally</td>\n",
       "      <td>31</td>\n",
       "      <td>Seoul</td>\n",
       "      <td>None</td>\n",
       "    </tr>\n",
       "    <tr>\n",
       "      <th>2</th>\n",
       "      <td>yujin</td>\n",
       "      <td>24</td>\n",
       "      <td>Ilsan</td>\n",
       "      <td>NaN</td>\n",
       "    </tr>\n",
       "    <tr>\n",
       "      <th>3</th>\n",
       "      <td>carl</td>\n",
       "      <td>40</td>\n",
       "      <td>Newyork</td>\n",
       "      <td>None</td>\n",
       "    </tr>\n",
       "  </tbody>\n",
       "</table>\n",
       "</div>"
      ],
      "text/plain": [
       "    name  age location         e-mail\n",
       "0    tom   30    Seoul  tom@naver.com\n",
       "1  sally   31    Seoul           None\n",
       "2  yujin   24    Ilsan            NaN\n",
       "3   carl   40  Newyork           None"
      ]
     },
     "execution_count": 92,
     "metadata": {},
     "output_type": "execute_result"
    }
   ],
   "source": [
    "df.loc[2] = {'name':'yujin', 'age':24, 'email':\"yujin@gmail.com\",\\\n",
    "             'location':\"Ilsan\"}\n",
    "df"
   ]
  },
  {
   "cell_type": "markdown",
   "id": "86a99d0a",
   "metadata": {},
   "source": [
    "column 조작"
   ]
  },
  {
   "cell_type": "code",
   "execution_count": 94,
   "id": "5f14afdb",
   "metadata": {},
   "outputs": [
    {
     "data": {
      "text/plain": [
       "0    30\n",
       "1    31\n",
       "2    24\n",
       "3    40\n",
       "Name: age, dtype: int64"
      ]
     },
     "execution_count": 94,
     "metadata": {},
     "output_type": "execute_result"
    }
   ],
   "source": [
    "# 대괄호 안에 해당하는 컬럼 이름을 넣어주면 \n",
    "# 원하는 Series를 반환해줌\n",
    "\n",
    "df['age']"
   ]
  },
  {
   "cell_type": "code",
   "execution_count": 101,
   "id": "b3ac4aeb",
   "metadata": {},
   "outputs": [
    {
     "data": {
      "text/html": [
       "<div>\n",
       "<style scoped>\n",
       "    .dataframe tbody tr th:only-of-type {\n",
       "        vertical-align: middle;\n",
       "    }\n",
       "\n",
       "    .dataframe tbody tr th {\n",
       "        vertical-align: top;\n",
       "    }\n",
       "\n",
       "    .dataframe thead th {\n",
       "        text-align: right;\n",
       "    }\n",
       "</style>\n",
       "<table border=\"1\" class=\"dataframe\">\n",
       "  <thead>\n",
       "    <tr style=\"text-align: right;\">\n",
       "      <th></th>\n",
       "      <th>name</th>\n",
       "      <th>age</th>\n",
       "      <th>location</th>\n",
       "      <th>e-mail</th>\n",
       "      <th>Id</th>\n",
       "    </tr>\n",
       "  </thead>\n",
       "  <tbody>\n",
       "    <tr>\n",
       "      <th>0</th>\n",
       "      <td>tom</td>\n",
       "      <td>30</td>\n",
       "      <td>Seoul</td>\n",
       "      <td>tom@naver.com</td>\n",
       "      <td>1</td>\n",
       "    </tr>\n",
       "    <tr>\n",
       "      <th>1</th>\n",
       "      <td>sally</td>\n",
       "      <td>31</td>\n",
       "      <td>Seoul</td>\n",
       "      <td>None</td>\n",
       "      <td>2</td>\n",
       "    </tr>\n",
       "    <tr>\n",
       "      <th>2</th>\n",
       "      <td>yujin</td>\n",
       "      <td>24</td>\n",
       "      <td>Ilsan</td>\n",
       "      <td>NaN</td>\n",
       "      <td>3</td>\n",
       "    </tr>\n",
       "    <tr>\n",
       "      <th>3</th>\n",
       "      <td>carl</td>\n",
       "      <td>40</td>\n",
       "      <td>Newyork</td>\n",
       "      <td>None</td>\n",
       "      <td>4</td>\n",
       "    </tr>\n",
       "  </tbody>\n",
       "</table>\n",
       "</div>"
      ],
      "text/plain": [
       "    name  age location         e-mail  Id\n",
       "0    tom   30    Seoul  tom@naver.com   1\n",
       "1  sally   31    Seoul           None   2\n",
       "2  yujin   24    Ilsan            NaN   3\n",
       "3   carl   40  Newyork           None   4"
      ]
     },
     "execution_count": 101,
     "metadata": {},
     "output_type": "execute_result"
    }
   ],
   "source": [
    "# 새로운 컬럼 추가\n",
    "\n",
    "df[\"Id\"] = range(1, len(df)+1)\n",
    "df"
   ]
  },
  {
   "cell_type": "code",
   "execution_count": 102,
   "id": "ac5f4a4b",
   "metadata": {},
   "outputs": [
    {
     "data": {
      "text/plain": [
       "name        object\n",
       "age          int64\n",
       "location    object\n",
       "e-mail      object\n",
       "Id           int64\n",
       "dtype: object"
      ]
     },
     "execution_count": 102,
     "metadata": {},
     "output_type": "execute_result"
    }
   ],
   "source": [
    "df.dtypes"
   ]
  },
  {
   "cell_type": "markdown",
   "id": "c9519b39",
   "metadata": {},
   "source": [
    "컬럼 데이터 순서"
   ]
  },
  {
   "cell_type": "code",
   "execution_count": 103,
   "id": "755b44d8",
   "metadata": {},
   "outputs": [
    {
     "data": {
      "text/html": [
       "<div>\n",
       "<style scoped>\n",
       "    .dataframe tbody tr th:only-of-type {\n",
       "        vertical-align: middle;\n",
       "    }\n",
       "\n",
       "    .dataframe tbody tr th {\n",
       "        vertical-align: top;\n",
       "    }\n",
       "\n",
       "    .dataframe thead th {\n",
       "        text-align: right;\n",
       "    }\n",
       "</style>\n",
       "<table border=\"1\" class=\"dataframe\">\n",
       "  <thead>\n",
       "    <tr style=\"text-align: right;\">\n",
       "      <th></th>\n",
       "      <th>Id</th>\n",
       "      <th>name</th>\n",
       "      <th>age</th>\n",
       "      <th>location</th>\n",
       "      <th>e-mail</th>\n",
       "    </tr>\n",
       "  </thead>\n",
       "  <tbody>\n",
       "    <tr>\n",
       "      <th>0</th>\n",
       "      <td>1</td>\n",
       "      <td>tom</td>\n",
       "      <td>30</td>\n",
       "      <td>Seoul</td>\n",
       "      <td>tom@naver.com</td>\n",
       "    </tr>\n",
       "    <tr>\n",
       "      <th>1</th>\n",
       "      <td>2</td>\n",
       "      <td>sally</td>\n",
       "      <td>31</td>\n",
       "      <td>Seoul</td>\n",
       "      <td>None</td>\n",
       "    </tr>\n",
       "    <tr>\n",
       "      <th>2</th>\n",
       "      <td>3</td>\n",
       "      <td>yujin</td>\n",
       "      <td>24</td>\n",
       "      <td>Ilsan</td>\n",
       "      <td>NaN</td>\n",
       "    </tr>\n",
       "    <tr>\n",
       "      <th>3</th>\n",
       "      <td>4</td>\n",
       "      <td>carl</td>\n",
       "      <td>40</td>\n",
       "      <td>Newyork</td>\n",
       "      <td>None</td>\n",
       "    </tr>\n",
       "  </tbody>\n",
       "</table>\n",
       "</div>"
      ],
      "text/plain": [
       "   Id   name  age location         e-mail\n",
       "0   1    tom   30    Seoul  tom@naver.com\n",
       "1   2  sally   31    Seoul           None\n",
       "2   3  yujin   24    Ilsan            NaN\n",
       "3   4   carl   40  Newyork           None"
      ]
     },
     "execution_count": 103,
     "metadata": {},
     "output_type": "execute_result"
    }
   ],
   "source": [
    "df[[\"Id\", \"name\", \"age\", \"location\", \"e-mail\"]]"
   ]
  },
  {
   "cell_type": "markdown",
   "id": "c33c25ae",
   "metadata": {},
   "source": [
    "## Concat \n",
    "- 새로운 데이터 프레임을 합칠 때\n",
    "- axis = 0은 행끼리 합, axis=1은 컬럼끼리 합(가로로 합)"
   ]
  },
  {
   "cell_type": "code",
   "execution_count": 110,
   "id": "22fc5fe0",
   "metadata": {},
   "outputs": [],
   "source": [
    "l = pd.DataFrame([{'name':\"hoa\", \"age\":27, 'location':\"Busan\"}])"
   ]
  },
  {
   "cell_type": "code",
   "execution_count": 111,
   "id": "c079868d",
   "metadata": {},
   "outputs": [
    {
     "data": {
      "text/html": [
       "<div>\n",
       "<style scoped>\n",
       "    .dataframe tbody tr th:only-of-type {\n",
       "        vertical-align: middle;\n",
       "    }\n",
       "\n",
       "    .dataframe tbody tr th {\n",
       "        vertical-align: top;\n",
       "    }\n",
       "\n",
       "    .dataframe thead th {\n",
       "        text-align: right;\n",
       "    }\n",
       "</style>\n",
       "<table border=\"1\" class=\"dataframe\">\n",
       "  <thead>\n",
       "    <tr style=\"text-align: right;\">\n",
       "      <th></th>\n",
       "      <th>name</th>\n",
       "      <th>age</th>\n",
       "      <th>location</th>\n",
       "      <th>e-mail</th>\n",
       "    </tr>\n",
       "  </thead>\n",
       "  <tbody>\n",
       "    <tr>\n",
       "      <th>0</th>\n",
       "      <td>tom</td>\n",
       "      <td>30</td>\n",
       "      <td>Seoul</td>\n",
       "      <td>tom@naver.com</td>\n",
       "    </tr>\n",
       "    <tr>\n",
       "      <th>1</th>\n",
       "      <td>sally</td>\n",
       "      <td>31</td>\n",
       "      <td>Seoul</td>\n",
       "      <td>None</td>\n",
       "    </tr>\n",
       "    <tr>\n",
       "      <th>2</th>\n",
       "      <td>yujin</td>\n",
       "      <td>23</td>\n",
       "      <td>Ilsan</td>\n",
       "      <td>None</td>\n",
       "    </tr>\n",
       "    <tr>\n",
       "      <th>3</th>\n",
       "      <td>carl</td>\n",
       "      <td>40</td>\n",
       "      <td>Newyork</td>\n",
       "      <td>None</td>\n",
       "    </tr>\n",
       "    <tr>\n",
       "      <th>0</th>\n",
       "      <td>hoa</td>\n",
       "      <td>27</td>\n",
       "      <td>Busan</td>\n",
       "      <td>NaN</td>\n",
       "    </tr>\n",
       "  </tbody>\n",
       "</table>\n",
       "</div>"
      ],
      "text/plain": [
       "    name  age location         e-mail\n",
       "0    tom   30    Seoul  tom@naver.com\n",
       "1  sally   31    Seoul           None\n",
       "2  yujin   23    Ilsan           None\n",
       "3   carl   40  Newyork           None\n",
       "0    hoa   27    Busan            NaN"
      ]
     },
     "execution_count": 111,
     "metadata": {},
     "output_type": "execute_result"
    }
   ],
   "source": [
    "new_df = pd.concat([df, l], axis=0)\n",
    "new_df\n",
    "\n",
    "# index가 맞지 않음.\n",
    "# 이럴 때 reset_index메서드 사용"
   ]
  },
  {
   "cell_type": "code",
   "execution_count": 112,
   "id": "0eab6e2f",
   "metadata": {},
   "outputs": [],
   "source": [
    "new_df.reset_index(drop=True, inplace=True)\n",
    "# inplace=True를 할 경우 새롭게 할당을 해줄 필요가 없음"
   ]
  },
  {
   "cell_type": "code",
   "execution_count": 114,
   "id": "bdf8076e",
   "metadata": {},
   "outputs": [
    {
     "data": {
      "text/html": [
       "<div>\n",
       "<style scoped>\n",
       "    .dataframe tbody tr th:only-of-type {\n",
       "        vertical-align: middle;\n",
       "    }\n",
       "\n",
       "    .dataframe tbody tr th {\n",
       "        vertical-align: top;\n",
       "    }\n",
       "\n",
       "    .dataframe thead th {\n",
       "        text-align: right;\n",
       "    }\n",
       "</style>\n",
       "<table border=\"1\" class=\"dataframe\">\n",
       "  <thead>\n",
       "    <tr style=\"text-align: right;\">\n",
       "      <th></th>\n",
       "      <th>name</th>\n",
       "      <th>age</th>\n",
       "      <th>location</th>\n",
       "      <th>e-mail</th>\n",
       "    </tr>\n",
       "  </thead>\n",
       "  <tbody>\n",
       "    <tr>\n",
       "      <th>0</th>\n",
       "      <td>tom</td>\n",
       "      <td>30</td>\n",
       "      <td>Seoul</td>\n",
       "      <td>tom@naver.com</td>\n",
       "    </tr>\n",
       "    <tr>\n",
       "      <th>1</th>\n",
       "      <td>sally</td>\n",
       "      <td>31</td>\n",
       "      <td>Seoul</td>\n",
       "      <td>None</td>\n",
       "    </tr>\n",
       "    <tr>\n",
       "      <th>2</th>\n",
       "      <td>yujin</td>\n",
       "      <td>23</td>\n",
       "      <td>Ilsan</td>\n",
       "      <td>None</td>\n",
       "    </tr>\n",
       "    <tr>\n",
       "      <th>3</th>\n",
       "      <td>carl</td>\n",
       "      <td>40</td>\n",
       "      <td>Newyork</td>\n",
       "      <td>None</td>\n",
       "    </tr>\n",
       "    <tr>\n",
       "      <th>4</th>\n",
       "      <td>hoa</td>\n",
       "      <td>27</td>\n",
       "      <td>Busan</td>\n",
       "      <td>NaN</td>\n",
       "    </tr>\n",
       "  </tbody>\n",
       "</table>\n",
       "</div>"
      ],
      "text/plain": [
       "    name  age location         e-mail\n",
       "0    tom   30    Seoul  tom@naver.com\n",
       "1  sally   31    Seoul           None\n",
       "2  yujin   23    Ilsan           None\n",
       "3   carl   40  Newyork           None\n",
       "4    hoa   27    Busan            NaN"
      ]
     },
     "execution_count": 114,
     "metadata": {},
     "output_type": "execute_result"
    }
   ],
   "source": [
    "new_df"
   ]
  },
  {
   "cell_type": "code",
   "execution_count": 115,
   "id": "05bf005b",
   "metadata": {},
   "outputs": [
    {
     "data": {
      "text/plain": [
       "Index(['name', 'age', 'location', 'e-mail'], dtype='object')"
      ]
     },
     "execution_count": 115,
     "metadata": {},
     "output_type": "execute_result"
    }
   ],
   "source": [
    "new_df.columns"
   ]
  },
  {
   "cell_type": "code",
   "execution_count": 116,
   "id": "e1531919",
   "metadata": {},
   "outputs": [
    {
     "data": {
      "text/plain": [
       "RangeIndex(start=0, stop=5, step=1)"
      ]
     },
     "execution_count": 116,
     "metadata": {},
     "output_type": "execute_result"
    }
   ],
   "source": [
    "new_df.index"
   ]
  },
  {
   "cell_type": "code",
   "execution_count": 123,
   "id": "5f8cd4d5",
   "metadata": {},
   "outputs": [],
   "source": [
    "# 데이터를 깊은 복사해줌\n",
    "\n",
    "df = new_df.copy()"
   ]
  },
  {
   "cell_type": "code",
   "execution_count": 130,
   "id": "2b90c259",
   "metadata": {},
   "outputs": [],
   "source": [
    "df.loc[0,\"age\"] = 28\n",
    "\n",
    "# 이렇게하면 원본 데이터는 보호될 수 있음"
   ]
  },
  {
   "cell_type": "code",
   "execution_count": 131,
   "id": "d8c9eccd",
   "metadata": {},
   "outputs": [
    {
     "data": {
      "text/html": [
       "<div>\n",
       "<style scoped>\n",
       "    .dataframe tbody tr th:only-of-type {\n",
       "        vertical-align: middle;\n",
       "    }\n",
       "\n",
       "    .dataframe tbody tr th {\n",
       "        vertical-align: top;\n",
       "    }\n",
       "\n",
       "    .dataframe thead th {\n",
       "        text-align: right;\n",
       "    }\n",
       "</style>\n",
       "<table border=\"1\" class=\"dataframe\">\n",
       "  <thead>\n",
       "    <tr style=\"text-align: right;\">\n",
       "      <th></th>\n",
       "      <th>name</th>\n",
       "      <th>age</th>\n",
       "      <th>location</th>\n",
       "      <th>e-mail</th>\n",
       "    </tr>\n",
       "  </thead>\n",
       "  <tbody>\n",
       "    <tr>\n",
       "      <th>0</th>\n",
       "      <td>tom</td>\n",
       "      <td>28</td>\n",
       "      <td>Seoul</td>\n",
       "      <td>tom@naver.com</td>\n",
       "    </tr>\n",
       "    <tr>\n",
       "      <th>1</th>\n",
       "      <td>sally</td>\n",
       "      <td>31</td>\n",
       "      <td>Seoul</td>\n",
       "      <td>None</td>\n",
       "    </tr>\n",
       "    <tr>\n",
       "      <th>2</th>\n",
       "      <td>yujin</td>\n",
       "      <td>23</td>\n",
       "      <td>Ilsan</td>\n",
       "      <td>None</td>\n",
       "    </tr>\n",
       "    <tr>\n",
       "      <th>3</th>\n",
       "      <td>carl</td>\n",
       "      <td>40</td>\n",
       "      <td>Newyork</td>\n",
       "      <td>None</td>\n",
       "    </tr>\n",
       "    <tr>\n",
       "      <th>4</th>\n",
       "      <td>hoa</td>\n",
       "      <td>27</td>\n",
       "      <td>Busan</td>\n",
       "      <td>NaN</td>\n",
       "    </tr>\n",
       "  </tbody>\n",
       "</table>\n",
       "</div>"
      ],
      "text/plain": [
       "    name  age location         e-mail\n",
       "0    tom   28    Seoul  tom@naver.com\n",
       "1  sally   31    Seoul           None\n",
       "2  yujin   23    Ilsan           None\n",
       "3   carl   40  Newyork           None\n",
       "4    hoa   27    Busan            NaN"
      ]
     },
     "execution_count": 131,
     "metadata": {},
     "output_type": "execute_result"
    }
   ],
   "source": [
    "df"
   ]
  },
  {
   "cell_type": "markdown",
   "id": "18f18068",
   "metadata": {},
   "source": [
    "## Merge\n",
    "- 같은 키 값의 데이터를 합치는 방법\n",
    "    - inner join : 키가 일치하는 것들에 대해서 합침\n",
    "    - outer join : 키가 일치하지 않아도 합쳐줌\n",
    "    - left or right join : 왼쪽 혹은 오른쪽 데이터의 키값에만 맞춰서 합쳐줌\n"
   ]
  },
  {
   "cell_type": "code",
   "execution_count": 132,
   "id": "5614aa0f",
   "metadata": {},
   "outputs": [],
   "source": [
    "new_data = pd.DataFrame({\n",
    "    \"name\":['tom', 'yujin','sally', 'carl'],\n",
    "    \"hobby\" : ['soccer', 'soccer', 'baseball', 'reading books']\n",
    "})"
   ]
  },
  {
   "cell_type": "code",
   "execution_count": 138,
   "id": "12eb5304",
   "metadata": {},
   "outputs": [
    {
     "data": {
      "text/html": [
       "<div>\n",
       "<style scoped>\n",
       "    .dataframe tbody tr th:only-of-type {\n",
       "        vertical-align: middle;\n",
       "    }\n",
       "\n",
       "    .dataframe tbody tr th {\n",
       "        vertical-align: top;\n",
       "    }\n",
       "\n",
       "    .dataframe thead th {\n",
       "        text-align: right;\n",
       "    }\n",
       "</style>\n",
       "<table border=\"1\" class=\"dataframe\">\n",
       "  <thead>\n",
       "    <tr style=\"text-align: right;\">\n",
       "      <th></th>\n",
       "      <th>name</th>\n",
       "      <th>age</th>\n",
       "      <th>location</th>\n",
       "      <th>e-mail</th>\n",
       "      <th>hobby</th>\n",
       "    </tr>\n",
       "  </thead>\n",
       "  <tbody>\n",
       "    <tr>\n",
       "      <th>0</th>\n",
       "      <td>tom</td>\n",
       "      <td>28</td>\n",
       "      <td>Seoul</td>\n",
       "      <td>tom@naver.com</td>\n",
       "      <td>soccer</td>\n",
       "    </tr>\n",
       "    <tr>\n",
       "      <th>1</th>\n",
       "      <td>sally</td>\n",
       "      <td>31</td>\n",
       "      <td>Seoul</td>\n",
       "      <td>None</td>\n",
       "      <td>baseball</td>\n",
       "    </tr>\n",
       "    <tr>\n",
       "      <th>2</th>\n",
       "      <td>yujin</td>\n",
       "      <td>23</td>\n",
       "      <td>Ilsan</td>\n",
       "      <td>None</td>\n",
       "      <td>soccer</td>\n",
       "    </tr>\n",
       "    <tr>\n",
       "      <th>3</th>\n",
       "      <td>carl</td>\n",
       "      <td>40</td>\n",
       "      <td>Newyork</td>\n",
       "      <td>None</td>\n",
       "      <td>reading books</td>\n",
       "    </tr>\n",
       "  </tbody>\n",
       "</table>\n",
       "</div>"
      ],
      "text/plain": [
       "    name  age location         e-mail          hobby\n",
       "0    tom   28    Seoul  tom@naver.com         soccer\n",
       "1  sally   31    Seoul           None       baseball\n",
       "2  yujin   23    Ilsan           None         soccer\n",
       "3   carl   40  Newyork           None  reading books"
      ]
     },
     "execution_count": 138,
     "metadata": {},
     "output_type": "execute_result"
    }
   ],
   "source": [
    "# df.merge(new_data, how='outer')\n",
    "# df.merge(new_data, how='left')\n",
    "# df.merge(new_data, how='right')\n",
    "\n",
    "df.merge(new_data, how='inner')"
   ]
  },
  {
   "cell_type": "markdown",
   "id": "f99143b1",
   "metadata": {},
   "source": [
    "## apply function"
   ]
  },
  {
   "cell_type": "code",
   "execution_count": 140,
   "id": "2a32b137",
   "metadata": {},
   "outputs": [
    {
     "data": {
      "text/html": [
       "<div>\n",
       "<style scoped>\n",
       "    .dataframe tbody tr th:only-of-type {\n",
       "        vertical-align: middle;\n",
       "    }\n",
       "\n",
       "    .dataframe tbody tr th {\n",
       "        vertical-align: top;\n",
       "    }\n",
       "\n",
       "    .dataframe thead th {\n",
       "        text-align: right;\n",
       "    }\n",
       "</style>\n",
       "<table border=\"1\" class=\"dataframe\">\n",
       "  <thead>\n",
       "    <tr style=\"text-align: right;\">\n",
       "      <th></th>\n",
       "      <th>name</th>\n",
       "      <th>age</th>\n",
       "      <th>location</th>\n",
       "      <th>e-mail</th>\n",
       "    </tr>\n",
       "  </thead>\n",
       "  <tbody>\n",
       "    <tr>\n",
       "      <th>0</th>\n",
       "      <td>tom</td>\n",
       "      <td>30</td>\n",
       "      <td>Seoul</td>\n",
       "      <td>tom@naver.com</td>\n",
       "    </tr>\n",
       "    <tr>\n",
       "      <th>1</th>\n",
       "      <td>sally</td>\n",
       "      <td>31</td>\n",
       "      <td>Seoul</td>\n",
       "      <td>sally@naver.com</td>\n",
       "    </tr>\n",
       "    <tr>\n",
       "      <th>2</th>\n",
       "      <td>yujin</td>\n",
       "      <td>23</td>\n",
       "      <td>Ilsan</td>\n",
       "      <td>yujin@naver.com</td>\n",
       "    </tr>\n",
       "    <tr>\n",
       "      <th>3</th>\n",
       "      <td>carl</td>\n",
       "      <td>40</td>\n",
       "      <td>Newyork</td>\n",
       "      <td>carl@naver.com</td>\n",
       "    </tr>\n",
       "    <tr>\n",
       "      <th>4</th>\n",
       "      <td>hoa</td>\n",
       "      <td>27</td>\n",
       "      <td>Busan</td>\n",
       "      <td>hoa@naver.com</td>\n",
       "    </tr>\n",
       "  </tbody>\n",
       "</table>\n",
       "</div>"
      ],
      "text/plain": [
       "    name  age location           e-mail\n",
       "0    tom   30    Seoul    tom@naver.com\n",
       "1  sally   31    Seoul  sally@naver.com\n",
       "2  yujin   23    Ilsan  yujin@naver.com\n",
       "3   carl   40  Newyork   carl@naver.com\n",
       "4    hoa   27    Busan    hoa@naver.com"
      ]
     },
     "execution_count": 140,
     "metadata": {},
     "output_type": "execute_result"
    }
   ],
   "source": [
    "new_df['e-mail'] = new_df.apply(lambda x : x['name']+\"@naver.com\", axis=1)\n",
    "new_df"
   ]
  },
  {
   "cell_type": "markdown",
   "id": "1400c3e8",
   "metadata": {},
   "source": [
    "## groupby\n",
    "- 특정 컬럼의 중복되는 데이터를 합쳐서 새로운 데이터 프레임으로 재구조화\n",
    "- size, min, max, mean 등 다양한 기능들이 있음"
   ]
  },
  {
   "cell_type": "code",
   "execution_count": 147,
   "id": "b9ccaf5f",
   "metadata": {},
   "outputs": [
    {
     "data": {
      "text/html": [
       "<div>\n",
       "<style scoped>\n",
       "    .dataframe tbody tr th:only-of-type {\n",
       "        vertical-align: middle;\n",
       "    }\n",
       "\n",
       "    .dataframe tbody tr th {\n",
       "        vertical-align: top;\n",
       "    }\n",
       "\n",
       "    .dataframe thead th {\n",
       "        text-align: right;\n",
       "    }\n",
       "</style>\n",
       "<table border=\"1\" class=\"dataframe\">\n",
       "  <thead>\n",
       "    <tr style=\"text-align: right;\">\n",
       "      <th></th>\n",
       "      <th>location</th>\n",
       "      <th>count</th>\n",
       "    </tr>\n",
       "  </thead>\n",
       "  <tbody>\n",
       "    <tr>\n",
       "      <th>3</th>\n",
       "      <td>Seoul</td>\n",
       "      <td>2</td>\n",
       "    </tr>\n",
       "    <tr>\n",
       "      <th>0</th>\n",
       "      <td>Busan</td>\n",
       "      <td>1</td>\n",
       "    </tr>\n",
       "    <tr>\n",
       "      <th>1</th>\n",
       "      <td>Ilsan</td>\n",
       "      <td>1</td>\n",
       "    </tr>\n",
       "    <tr>\n",
       "      <th>2</th>\n",
       "      <td>Newyork</td>\n",
       "      <td>1</td>\n",
       "    </tr>\n",
       "  </tbody>\n",
       "</table>\n",
       "</div>"
      ],
      "text/plain": [
       "  location  count\n",
       "3    Seoul      2\n",
       "0    Busan      1\n",
       "1    Ilsan      1\n",
       "2  Newyork      1"
      ]
     },
     "execution_count": 147,
     "metadata": {},
     "output_type": "execute_result"
    }
   ],
   "source": [
    "# size는 그룹별 카운트를 반환\n",
    "\n",
    "result = new_df.groupby('location').size().reset_index(name=\"count\")\n",
    "result\n",
    "\n",
    "result.sort_values(\"count\", ascending=False)"
   ]
  },
  {
   "cell_type": "code",
   "execution_count": 154,
   "id": "e62865d5",
   "metadata": {},
   "outputs": [
    {
     "data": {
      "text/html": [
       "<div>\n",
       "<style scoped>\n",
       "    .dataframe tbody tr th:only-of-type {\n",
       "        vertical-align: middle;\n",
       "    }\n",
       "\n",
       "    .dataframe tbody tr th {\n",
       "        vertical-align: top;\n",
       "    }\n",
       "\n",
       "    .dataframe thead th {\n",
       "        text-align: right;\n",
       "    }\n",
       "</style>\n",
       "<table border=\"1\" class=\"dataframe\">\n",
       "  <thead>\n",
       "    <tr style=\"text-align: right;\">\n",
       "      <th></th>\n",
       "      <th>location</th>\n",
       "      <th>mean_age</th>\n",
       "    </tr>\n",
       "  </thead>\n",
       "  <tbody>\n",
       "    <tr>\n",
       "      <th>0</th>\n",
       "      <td>Busan</td>\n",
       "      <td>27.0</td>\n",
       "    </tr>\n",
       "    <tr>\n",
       "      <th>1</th>\n",
       "      <td>Ilsan</td>\n",
       "      <td>23.0</td>\n",
       "    </tr>\n",
       "    <tr>\n",
       "      <th>2</th>\n",
       "      <td>Newyork</td>\n",
       "      <td>40.0</td>\n",
       "    </tr>\n",
       "    <tr>\n",
       "      <th>3</th>\n",
       "      <td>Seoul</td>\n",
       "      <td>30.5</td>\n",
       "    </tr>\n",
       "  </tbody>\n",
       "</table>\n",
       "</div>"
      ],
      "text/plain": [
       "  location  mean_age\n",
       "0    Busan      27.0\n",
       "1    Ilsan      23.0\n",
       "2  Newyork      40.0\n",
       "3    Seoul      30.5"
      ]
     },
     "execution_count": 154,
     "metadata": {},
     "output_type": "execute_result"
    }
   ],
   "source": [
    "# 지역별 연령\n",
    "\n",
    "new_df.groupby('location')['age'].mean().reset_index(name='mean_age')"
   ]
  },
  {
   "cell_type": "code",
   "execution_count": 155,
   "id": "313ffdb0",
   "metadata": {},
   "outputs": [
    {
     "data": {
      "text/html": [
       "<div>\n",
       "<style scoped>\n",
       "    .dataframe tbody tr th:only-of-type {\n",
       "        vertical-align: middle;\n",
       "    }\n",
       "\n",
       "    .dataframe tbody tr th {\n",
       "        vertical-align: top;\n",
       "    }\n",
       "\n",
       "    .dataframe thead th {\n",
       "        text-align: right;\n",
       "    }\n",
       "</style>\n",
       "<table border=\"1\" class=\"dataframe\">\n",
       "  <thead>\n",
       "    <tr style=\"text-align: right;\">\n",
       "      <th></th>\n",
       "      <th>age</th>\n",
       "    </tr>\n",
       "  </thead>\n",
       "  <tbody>\n",
       "    <tr>\n",
       "      <th>count</th>\n",
       "      <td>5.000000</td>\n",
       "    </tr>\n",
       "    <tr>\n",
       "      <th>mean</th>\n",
       "      <td>30.200000</td>\n",
       "    </tr>\n",
       "    <tr>\n",
       "      <th>std</th>\n",
       "      <td>6.300794</td>\n",
       "    </tr>\n",
       "    <tr>\n",
       "      <th>min</th>\n",
       "      <td>23.000000</td>\n",
       "    </tr>\n",
       "    <tr>\n",
       "      <th>25%</th>\n",
       "      <td>27.000000</td>\n",
       "    </tr>\n",
       "    <tr>\n",
       "      <th>50%</th>\n",
       "      <td>30.000000</td>\n",
       "    </tr>\n",
       "    <tr>\n",
       "      <th>75%</th>\n",
       "      <td>31.000000</td>\n",
       "    </tr>\n",
       "    <tr>\n",
       "      <th>max</th>\n",
       "      <td>40.000000</td>\n",
       "    </tr>\n",
       "  </tbody>\n",
       "</table>\n",
       "</div>"
      ],
      "text/plain": [
       "             age\n",
       "count   5.000000\n",
       "mean   30.200000\n",
       "std     6.300794\n",
       "min    23.000000\n",
       "25%    27.000000\n",
       "50%    30.000000\n",
       "75%    31.000000\n",
       "max    40.000000"
      ]
     },
     "execution_count": 155,
     "metadata": {},
     "output_type": "execute_result"
    }
   ],
   "source": [
    "new_df.describe()"
   ]
  },
  {
   "cell_type": "markdown",
   "id": "ce74605f",
   "metadata": {},
   "source": [
    "# Matplotlib & Seaborn\n",
    "\n",
    "- 데이터를 시각화하기 위한 API\n",
    "- 여러가지 시각화 방법에 대해서는 documentation을 참고해야 함\n",
    "\n",
    "- 한글 폰트 사용\n",
    "    - [한글폰트사용](http://corazzon.github.io/matplotlib_font_setting)"
   ]
  },
  {
   "cell_type": "code",
   "execution_count": 4,
   "id": "fbc1ca79",
   "metadata": {},
   "outputs": [],
   "source": [
    "import matplotlib.pyplot as plt\n",
    "import pandas as pd\n",
    "import matplotlib.font_manager as fm\n",
    "\n",
    "%matplotlib inline"
   ]
  },
  {
   "cell_type": "code",
   "execution_count": 5,
   "id": "c17cf772",
   "metadata": {},
   "outputs": [],
   "source": [
    "font_list = fm.findSystemFonts(fontpaths=None, fontext='ttf')\n",
    "\n",
    "font_path = list(filter(lambda x : \"Nanum\" in x, font_list))[0]\n",
    "fontprop = fm.FontProperties(fname=font_path, size=18)"
   ]
  },
  {
   "cell_type": "markdown",
   "id": "185c5557",
   "metadata": {},
   "source": [
    "### csv 형태의 엑셀 데이터를 읽어보자.\n",
    "- titanic과 부동산 데이터를 모두 읽어온다."
   ]
  },
  {
   "cell_type": "code",
   "execution_count": 6,
   "id": "634fbce1",
   "metadata": {},
   "outputs": [],
   "source": [
    "df = pd.read_csv('titanic.csv')\n",
    "re = pd.read_csv('screened.csv')"
   ]
  },
  {
   "cell_type": "code",
   "execution_count": 7,
   "id": "5c74b82d",
   "metadata": {},
   "outputs": [
    {
     "data": {
      "text/html": [
       "<div>\n",
       "<style scoped>\n",
       "    .dataframe tbody tr th:only-of-type {\n",
       "        vertical-align: middle;\n",
       "    }\n",
       "\n",
       "    .dataframe tbody tr th {\n",
       "        vertical-align: top;\n",
       "    }\n",
       "\n",
       "    .dataframe thead th {\n",
       "        text-align: right;\n",
       "    }\n",
       "</style>\n",
       "<table border=\"1\" class=\"dataframe\">\n",
       "  <thead>\n",
       "    <tr style=\"text-align: right;\">\n",
       "      <th></th>\n",
       "      <th>PassengerId</th>\n",
       "      <th>Survived</th>\n",
       "      <th>Pclass</th>\n",
       "      <th>Name</th>\n",
       "      <th>Sex</th>\n",
       "      <th>Age</th>\n",
       "      <th>SibSp</th>\n",
       "      <th>Parch</th>\n",
       "      <th>Ticket</th>\n",
       "      <th>Fare</th>\n",
       "      <th>Cabin</th>\n",
       "      <th>Embarked</th>\n",
       "    </tr>\n",
       "  </thead>\n",
       "  <tbody>\n",
       "    <tr>\n",
       "      <th>0</th>\n",
       "      <td>1</td>\n",
       "      <td>0</td>\n",
       "      <td>3</td>\n",
       "      <td>Braund, Mr. Owen Harris</td>\n",
       "      <td>male</td>\n",
       "      <td>22.0</td>\n",
       "      <td>1</td>\n",
       "      <td>0</td>\n",
       "      <td>A/5 21171</td>\n",
       "      <td>7.2500</td>\n",
       "      <td>NaN</td>\n",
       "      <td>S</td>\n",
       "    </tr>\n",
       "    <tr>\n",
       "      <th>1</th>\n",
       "      <td>2</td>\n",
       "      <td>1</td>\n",
       "      <td>1</td>\n",
       "      <td>Cumings, Mrs. John Bradley (Florence Briggs Th...</td>\n",
       "      <td>female</td>\n",
       "      <td>38.0</td>\n",
       "      <td>1</td>\n",
       "      <td>0</td>\n",
       "      <td>PC 17599</td>\n",
       "      <td>71.2833</td>\n",
       "      <td>C85</td>\n",
       "      <td>C</td>\n",
       "    </tr>\n",
       "    <tr>\n",
       "      <th>2</th>\n",
       "      <td>3</td>\n",
       "      <td>1</td>\n",
       "      <td>3</td>\n",
       "      <td>Heikkinen, Miss. Laina</td>\n",
       "      <td>female</td>\n",
       "      <td>26.0</td>\n",
       "      <td>0</td>\n",
       "      <td>0</td>\n",
       "      <td>STON/O2. 3101282</td>\n",
       "      <td>7.9250</td>\n",
       "      <td>NaN</td>\n",
       "      <td>S</td>\n",
       "    </tr>\n",
       "    <tr>\n",
       "      <th>3</th>\n",
       "      <td>4</td>\n",
       "      <td>1</td>\n",
       "      <td>1</td>\n",
       "      <td>Futrelle, Mrs. Jacques Heath (Lily May Peel)</td>\n",
       "      <td>female</td>\n",
       "      <td>35.0</td>\n",
       "      <td>1</td>\n",
       "      <td>0</td>\n",
       "      <td>113803</td>\n",
       "      <td>53.1000</td>\n",
       "      <td>C123</td>\n",
       "      <td>S</td>\n",
       "    </tr>\n",
       "    <tr>\n",
       "      <th>4</th>\n",
       "      <td>5</td>\n",
       "      <td>0</td>\n",
       "      <td>3</td>\n",
       "      <td>Allen, Mr. William Henry</td>\n",
       "      <td>male</td>\n",
       "      <td>35.0</td>\n",
       "      <td>0</td>\n",
       "      <td>0</td>\n",
       "      <td>373450</td>\n",
       "      <td>8.0500</td>\n",
       "      <td>NaN</td>\n",
       "      <td>S</td>\n",
       "    </tr>\n",
       "  </tbody>\n",
       "</table>\n",
       "</div>"
      ],
      "text/plain": [
       "   PassengerId  Survived  Pclass  \\\n",
       "0            1         0       3   \n",
       "1            2         1       1   \n",
       "2            3         1       3   \n",
       "3            4         1       1   \n",
       "4            5         0       3   \n",
       "\n",
       "                                                Name     Sex   Age  SibSp  \\\n",
       "0                            Braund, Mr. Owen Harris    male  22.0      1   \n",
       "1  Cumings, Mrs. John Bradley (Florence Briggs Th...  female  38.0      1   \n",
       "2                             Heikkinen, Miss. Laina  female  26.0      0   \n",
       "3       Futrelle, Mrs. Jacques Heath (Lily May Peel)  female  35.0      1   \n",
       "4                           Allen, Mr. William Henry    male  35.0      0   \n",
       "\n",
       "   Parch            Ticket     Fare Cabin Embarked  \n",
       "0      0         A/5 21171   7.2500   NaN        S  \n",
       "1      0          PC 17599  71.2833   C85        C  \n",
       "2      0  STON/O2. 3101282   7.9250   NaN        S  \n",
       "3      0            113803  53.1000  C123        S  \n",
       "4      0            373450   8.0500   NaN        S  "
      ]
     },
     "execution_count": 7,
     "metadata": {},
     "output_type": "execute_result"
    }
   ],
   "source": [
    "df.head()"
   ]
  },
  {
   "cell_type": "markdown",
   "id": "d59fab51",
   "metadata": {},
   "source": [
    "## Bar Plot\n",
    "- 데이터의 분포를 확인할 때 주로 보는 plot\n",
    "- 빈도를 나타내는 방법"
   ]
  },
  {
   "cell_type": "code",
   "execution_count": 8,
   "id": "7160ba1d",
   "metadata": {},
   "outputs": [
    {
     "data": {
      "text/plain": [
       "Text(0.5, 1.0, 'Titanic 사망/생존 비')"
      ]
     },
     "execution_count": 8,
     "metadata": {},
     "output_type": "execute_result"
    },
    {
     "data": {
      "image/png": "[encoded data removed]",
      "text/plain": [
       "<Figure size 640x480 with 1 Axes>"
      ]
     },
     "metadata": {},
     "output_type": "display_data"
    }
   ],
   "source": [
    "counts = df['Survived'].value_counts()\n",
    "\n",
    "plt.bar([\"Dead\", \"Alive\"], counts, color='tomato')\n",
    "plt.xlabel('사망/생존', fontproperties=fontprop)\n",
    "plt.ylabel(\"count\", fontproperties=fontprop)\n",
    "plt.title('Titanic 사망/생존 비', fontproperties=fontprop)"
   ]
  },
  {
   "cell_type": "markdown",
   "id": "34fe0587",
   "metadata": {},
   "source": [
    "## Histogram\n",
    "- 연속형 데이터의 분포를 확인하기 위한 방법\n",
    "- 구간화를 얼마나 하느냐에 따라 더 상세해지기도 함 (bin)"
   ]
  },
  {
   "cell_type": "code",
   "execution_count": 11,
   "id": "75dad311",
   "metadata": {},
   "outputs": [
    {
     "data": {
      "text/plain": [
       "Text(0.5, 1.0, 'Titanic Age Histogram')"
      ]
     },
     "execution_count": 11,
     "metadata": {},
     "output_type": "execute_result"
    },
    {
     "data": {
      "image/png": "[encoded data removed]",
      "text/plain": [
       "<Figure size 640x480 with 1 Axes>"
      ]
     },
     "metadata": {},
     "output_type": "display_data"
    }
   ],
   "source": [
    "age = df['Age']\n",
    "\n",
    "plt.hist(age, color=\"tomato\", bins=20, density=True)\n",
    "plt.xlabel('Age')\n",
    "plt.ylabel(\"ratio\")\n",
    "plt.title('Titanic Age Histogram')"
   ]
  },
  {
   "cell_type": "markdown",
   "id": "39ca3b76",
   "metadata": {},
   "source": [
    "## Scatter Plot\n",
    "- 두개의 데이터 혹은 세개의 변수끼리의 관계를 볼 수 있는 데이터 표현방식"
   ]
  },
  {
   "cell_type": "code",
   "execution_count": 12,
   "id": "0775e815",
   "metadata": {},
   "outputs": [
    {
     "data": {
      "text/html": [
       "<div>\n",
       "<style scoped>\n",
       "    .dataframe tbody tr th:only-of-type {\n",
       "        vertical-align: middle;\n",
       "    }\n",
       "\n",
       "    .dataframe tbody tr th {\n",
       "        vertical-align: top;\n",
       "    }\n",
       "\n",
       "    .dataframe thead th {\n",
       "        text-align: right;\n",
       "    }\n",
       "</style>\n",
       "<table border=\"1\" class=\"dataframe\">\n",
       "  <thead>\n",
       "    <tr style=\"text-align: right;\">\n",
       "      <th></th>\n",
       "      <th>registration_date</th>\n",
       "      <th>location</th>\n",
       "      <th>size</th>\n",
       "      <th>floor</th>\n",
       "      <th>old</th>\n",
       "      <th>type</th>\n",
       "      <th>KBIR</th>\n",
       "      <th>KRWDLR</th>\n",
       "      <th>MTL</th>\n",
       "      <th>CRM</th>\n",
       "      <th>ESIS</th>\n",
       "      <th>OBPR</th>\n",
       "      <th>APTTRD</th>\n",
       "      <th>VLTRD</th>\n",
       "      <th>price</th>\n",
       "    </tr>\n",
       "  </thead>\n",
       "  <tbody>\n",
       "    <tr>\n",
       "      <th>0</th>\n",
       "      <td>2020-06-01</td>\n",
       "      <td>강남구</td>\n",
       "      <td>77.75</td>\n",
       "      <td>4</td>\n",
       "      <td>32.0</td>\n",
       "      <td>apt</td>\n",
       "      <td>0.5</td>\n",
       "      <td>1208.845455</td>\n",
       "      <td>2.49</td>\n",
       "      <td>125739.8</td>\n",
       "      <td>74.3</td>\n",
       "      <td>99.71</td>\n",
       "      <td>139.9</td>\n",
       "      <td>97.2</td>\n",
       "      <td>149500</td>\n",
       "    </tr>\n",
       "    <tr>\n",
       "      <th>1</th>\n",
       "      <td>2020-06-01</td>\n",
       "      <td>강남구</td>\n",
       "      <td>79.97</td>\n",
       "      <td>4</td>\n",
       "      <td>33.0</td>\n",
       "      <td>apt</td>\n",
       "      <td>0.5</td>\n",
       "      <td>1208.845455</td>\n",
       "      <td>2.49</td>\n",
       "      <td>125739.8</td>\n",
       "      <td>74.3</td>\n",
       "      <td>99.71</td>\n",
       "      <td>139.9</td>\n",
       "      <td>97.2</td>\n",
       "      <td>162750</td>\n",
       "    </tr>\n",
       "    <tr>\n",
       "      <th>2</th>\n",
       "      <td>2020-06-01</td>\n",
       "      <td>강남구</td>\n",
       "      <td>79.97</td>\n",
       "      <td>5</td>\n",
       "      <td>33.0</td>\n",
       "      <td>apt</td>\n",
       "      <td>0.5</td>\n",
       "      <td>1208.845455</td>\n",
       "      <td>2.49</td>\n",
       "      <td>125739.8</td>\n",
       "      <td>74.3</td>\n",
       "      <td>99.71</td>\n",
       "      <td>139.9</td>\n",
       "      <td>97.2</td>\n",
       "      <td>160000</td>\n",
       "    </tr>\n",
       "    <tr>\n",
       "      <th>3</th>\n",
       "      <td>2020-06-01</td>\n",
       "      <td>강남구</td>\n",
       "      <td>79.97</td>\n",
       "      <td>2</td>\n",
       "      <td>33.0</td>\n",
       "      <td>apt</td>\n",
       "      <td>0.5</td>\n",
       "      <td>1208.845455</td>\n",
       "      <td>2.49</td>\n",
       "      <td>125739.8</td>\n",
       "      <td>74.3</td>\n",
       "      <td>99.71</td>\n",
       "      <td>139.9</td>\n",
       "      <td>97.2</td>\n",
       "      <td>150000</td>\n",
       "    </tr>\n",
       "    <tr>\n",
       "      <th>4</th>\n",
       "      <td>2020-06-01</td>\n",
       "      <td>강남구</td>\n",
       "      <td>67.28</td>\n",
       "      <td>2</td>\n",
       "      <td>33.0</td>\n",
       "      <td>apt</td>\n",
       "      <td>0.5</td>\n",
       "      <td>1208.845455</td>\n",
       "      <td>2.49</td>\n",
       "      <td>125739.8</td>\n",
       "      <td>74.3</td>\n",
       "      <td>99.71</td>\n",
       "      <td>139.9</td>\n",
       "      <td>97.2</td>\n",
       "      <td>165000</td>\n",
       "    </tr>\n",
       "  </tbody>\n",
       "</table>\n",
       "</div>"
      ],
      "text/plain": [
       "  registration_date location   size  floor   old type  KBIR       KRWDLR  \\\n",
       "0        2020-06-01      강남구  77.75      4  32.0  apt   0.5  1208.845455   \n",
       "1        2020-06-01      강남구  79.97      4  33.0  apt   0.5  1208.845455   \n",
       "2        2020-06-01      강남구  79.97      5  33.0  apt   0.5  1208.845455   \n",
       "3        2020-06-01      강남구  79.97      2  33.0  apt   0.5  1208.845455   \n",
       "4        2020-06-01      강남구  67.28      2  33.0  apt   0.5  1208.845455   \n",
       "\n",
       "    MTL       CRM  ESIS   OBPR  APTTRD  VLTRD   price  \n",
       "0  2.49  125739.8  74.3  99.71   139.9   97.2  149500  \n",
       "1  2.49  125739.8  74.3  99.71   139.9   97.2  162750  \n",
       "2  2.49  125739.8  74.3  99.71   139.9   97.2  160000  \n",
       "3  2.49  125739.8  74.3  99.71   139.9   97.2  150000  \n",
       "4  2.49  125739.8  74.3  99.71   139.9   97.2  165000  "
      ]
     },
     "execution_count": 12,
     "metadata": {},
     "output_type": "execute_result"
    }
   ],
   "source": [
    "re.head()"
   ]
  },
  {
   "cell_type": "code",
   "execution_count": 13,
   "id": "1513918e",
   "metadata": {},
   "outputs": [
    {
     "data": {
      "text/plain": [
       "Text(0.5, 1.0, 'size - price scatter plot')"
      ]
     },
     "execution_count": 13,
     "metadata": {},
     "output_type": "execute_result"
    },
    {
     "data": {
      "image/png": "[encoded data removed]",
      "text/plain": [
       "<Figure size 640x480 with 1 Axes>"
      ]
     },
     "metadata": {},
     "output_type": "display_data"
    }
   ],
   "source": [
    "x = re['size']\n",
    "y = re['price']\n",
    "\n",
    "plt.scatter(x,y, color='tomato')\n",
    "plt.xlabel('Size')\n",
    "plt.ylabel('Price')\n",
    "plt.title('size - price scatter plot')"
   ]
  },
  {
   "cell_type": "markdown",
   "id": "edfaca07",
   "metadata": {},
   "source": [
    "## Line Plot\n",
    "- 시간에 따라 움직이는 데이터를 표현할 때 씀"
   ]
  },
  {
   "cell_type": "code",
   "execution_count": 14,
   "id": "203b4d44",
   "metadata": {},
   "outputs": [],
   "source": [
    "gangnam = re[re.location == '강남구'].copy()\n",
    "\n",
    "gangnam = gangnam.groupby('registration_date')['price'].mean().reset_index(name='Price')"
   ]
  },
  {
   "cell_type": "code",
   "execution_count": 15,
   "id": "16e48381",
   "metadata": {},
   "outputs": [
    {
     "data": {
      "text/plain": [
       "Text(0.5, 1.0, 'Mean House Price per month')"
      ]
     },
     "execution_count": 15,
     "metadata": {},
     "output_type": "execute_result"
    },
    {
     "data": {
      "image/png": "[encoded data removed]",
      "text/plain": [
       "<Figure size 640x480 with 1 Axes>"
      ]
     },
     "metadata": {},
     "output_type": "display_data"
    }
   ],
   "source": [
    "x = gangnam['registration_date']\n",
    "y = gangnam['Price']\n",
    "\n",
    "plt.plot(x, y, color = 'tomato')\n",
    "plt.xlabel('Date')\n",
    "plt.ylabel('Price')\n",
    "plt.xticks(rotation=45, ha='right')\n",
    "plt.title('Mean House Price per month')"
   ]
  },
  {
   "cell_type": "markdown",
   "id": "28021fd7",
   "metadata": {},
   "source": [
    "## Groupby Plot\n",
    "- 그룹에 따라 나뉘게 plotting 하는 기법\n",
    "- 그룹이 outcome에 어떻게 영향을 미쳤는지 직관적으로 확인할 수 있다."
   ]
  },
  {
   "cell_type": "code",
   "execution_count": 16,
   "id": "1ebffeeb",
   "metadata": {},
   "outputs": [
    {
     "data": {
      "text/html": [
       "<div>\n",
       "<style scoped>\n",
       "    .dataframe tbody tr th:only-of-type {\n",
       "        vertical-align: middle;\n",
       "    }\n",
       "\n",
       "    .dataframe tbody tr th {\n",
       "        vertical-align: top;\n",
       "    }\n",
       "\n",
       "    .dataframe thead th {\n",
       "        text-align: right;\n",
       "    }\n",
       "</style>\n",
       "<table border=\"1\" class=\"dataframe\">\n",
       "  <thead>\n",
       "    <tr style=\"text-align: right;\">\n",
       "      <th></th>\n",
       "      <th>registration_date</th>\n",
       "      <th>location</th>\n",
       "      <th>price</th>\n",
       "    </tr>\n",
       "  </thead>\n",
       "  <tbody>\n",
       "    <tr>\n",
       "      <th>0</th>\n",
       "      <td>2020-06-01</td>\n",
       "      <td>강남구</td>\n",
       "      <td>149500</td>\n",
       "    </tr>\n",
       "    <tr>\n",
       "      <th>1</th>\n",
       "      <td>2020-06-01</td>\n",
       "      <td>강남구</td>\n",
       "      <td>162750</td>\n",
       "    </tr>\n",
       "    <tr>\n",
       "      <th>2</th>\n",
       "      <td>2020-06-01</td>\n",
       "      <td>강남구</td>\n",
       "      <td>160000</td>\n",
       "    </tr>\n",
       "    <tr>\n",
       "      <th>3</th>\n",
       "      <td>2020-06-01</td>\n",
       "      <td>강남구</td>\n",
       "      <td>150000</td>\n",
       "    </tr>\n",
       "    <tr>\n",
       "      <th>4</th>\n",
       "      <td>2020-06-01</td>\n",
       "      <td>강남구</td>\n",
       "      <td>165000</td>\n",
       "    </tr>\n",
       "  </tbody>\n",
       "</table>\n",
       "</div>"
      ],
      "text/plain": [
       "  registration_date location   price\n",
       "0        2020-06-01      강남구  149500\n",
       "1        2020-06-01      강남구  162750\n",
       "2        2020-06-01      강남구  160000\n",
       "3        2020-06-01      강남구  150000\n",
       "4        2020-06-01      강남구  165000"
      ]
     },
     "execution_count": 16,
     "metadata": {},
     "output_type": "execute_result"
    }
   ],
   "source": [
    "sample = re[(re.location == '강남구') | (re.location == '강북구')]\n",
    "sample = sample[sample.type == 'apt'].copy()\n",
    "\n",
    "sample = sample[['registration_date', 'location', 'price']].copy()\n",
    "sample.head()"
   ]
  },
  {
   "cell_type": "code",
   "execution_count": 17,
   "id": "b626e493",
   "metadata": {},
   "outputs": [
    {
     "data": {
      "text/html": [
       "<div>\n",
       "<style scoped>\n",
       "    .dataframe tbody tr th:only-of-type {\n",
       "        vertical-align: middle;\n",
       "    }\n",
       "\n",
       "    .dataframe tbody tr th {\n",
       "        vertical-align: top;\n",
       "    }\n",
       "\n",
       "    .dataframe thead th {\n",
       "        text-align: right;\n",
       "    }\n",
       "</style>\n",
       "<table border=\"1\" class=\"dataframe\">\n",
       "  <thead>\n",
       "    <tr style=\"text-align: right;\">\n",
       "      <th></th>\n",
       "      <th>location</th>\n",
       "      <th>registration_date</th>\n",
       "      <th>price</th>\n",
       "    </tr>\n",
       "  </thead>\n",
       "  <tbody>\n",
       "    <tr>\n",
       "      <th>0</th>\n",
       "      <td>강남구</td>\n",
       "      <td>2020-01-01</td>\n",
       "      <td>111079.230769</td>\n",
       "    </tr>\n",
       "    <tr>\n",
       "      <th>1</th>\n",
       "      <td>강남구</td>\n",
       "      <td>2020-02-01</td>\n",
       "      <td>134025.769231</td>\n",
       "    </tr>\n",
       "    <tr>\n",
       "      <th>2</th>\n",
       "      <td>강남구</td>\n",
       "      <td>2020-03-01</td>\n",
       "      <td>118492.105263</td>\n",
       "    </tr>\n",
       "    <tr>\n",
       "      <th>3</th>\n",
       "      <td>강남구</td>\n",
       "      <td>2020-04-01</td>\n",
       "      <td>147280.459770</td>\n",
       "    </tr>\n",
       "    <tr>\n",
       "      <th>4</th>\n",
       "      <td>강남구</td>\n",
       "      <td>2020-05-01</td>\n",
       "      <td>148200.120419</td>\n",
       "    </tr>\n",
       "  </tbody>\n",
       "</table>\n",
       "</div>"
      ],
      "text/plain": [
       "  location registration_date          price\n",
       "0      강남구        2020-01-01  111079.230769\n",
       "1      강남구        2020-02-01  134025.769231\n",
       "2      강남구        2020-03-01  118492.105263\n",
       "3      강남구        2020-04-01  147280.459770\n",
       "4      강남구        2020-05-01  148200.120419"
      ]
     },
     "execution_count": 17,
     "metadata": {},
     "output_type": "execute_result"
    }
   ],
   "source": [
    "plot_this = sample.groupby(['location', 'registration_date'],as_index=False).mean()\n",
    "\n",
    "plot_this.head()"
   ]
  },
  {
   "cell_type": "code",
   "execution_count": 30,
   "id": "7cbf33c4",
   "metadata": {},
   "outputs": [],
   "source": [
    "# 한글 설정\n",
    "\n",
    "plt.rc('font', family='NanumGothicCoding')\n",
    "%matplotlib inline"
   ]
  },
  {
   "cell_type": "code",
   "execution_count": 33,
   "id": "f1122cdd",
   "metadata": {},
   "outputs": [
    {
     "data": {
      "image/png": "[encoded data removed]",
      "text/plain": [
       "<Figure size 640x480 with 1 Axes>"
      ]
     },
     "metadata": {},
     "output_type": "display_data"
    }
   ],
   "source": [
    "colors = ['tomato', 'darkcyan']\n",
    "\n",
    "for idx, loc in enumerate(plot_this['location'].unique()):\n",
    "    temp_df = plot_this[plot_this.location == loc]\n",
    "    plt.plot(temp_df['registration_date'], temp_df['price'], label=loc, color=colors[idx])\n",
    "\n",
    "plt.legend()\n",
    "plt.xlabel('Date')\n",
    "plt.ylabel('Price')\n",
    "plt.xticks(rotation=45, ha='right')\n",
    "plt.show()"
   ]
  },
  {
   "cell_type": "code",
   "execution_count": null,
   "id": "a181f7b2",
   "metadata": {},
   "outputs": [],
   "source": []
  }
 ],
 "metadata": {
  "kernelspec": {
   "display_name": "Python 3 (ipykernel)",
   "language": "python",
   "name": "python3"
  },
  "language_info": {
   "codemirror_mode": {
    "name": "ipython",
    "version": 3
   },
   "file_extension": ".py",
   "mimetype": "text/x-python",
   "name": "python",
   "nbconvert_exporter": "python",
   "pygments_lexer": "ipython3",
   "version": "3.9.13"
  }
 },
 "nbformat": 4,
 "nbformat_minor": 5
}
