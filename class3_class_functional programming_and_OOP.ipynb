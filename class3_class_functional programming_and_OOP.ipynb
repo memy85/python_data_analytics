{
 "cells": [
  {
   "cell_type": "markdown",
   "id": "6ca94628",
   "metadata": {},
   "source": [
    "# Recap\n",
    "- 파이썬의 기본 자료구조\n",
    "    - int, float\n",
    "    - boolean\n",
    "    - string\n",
    "    - list, dictionary, tuple\n",
    "        - iterable, indexing\n",
    "    - for, while\n",
    "        - list comprehension\n",
    "    - if statement"
   ]
  },
  {
   "cell_type": "markdown",
   "id": "09387fcc",
   "metadata": {},
   "source": [
    "# Class and Object\n",
    "- 클래스 \n",
    "    - 파이썬에서 가장 이해하기 어려운 지점\n",
    "    - 객체를 만드는 최소단위임\n",
    "    - 클래스를 만드는 것을 추상화라고 한다. \n",
    "\n",
    "- 클래스 선언하는 법\n",
    "    - 클래스 이름\n",
    "    - 메서드\n",
    "        - 특별 메서드\n",
    "            - `__init__`,`__repr__`,`__str__`\n",
    "            - `__add__`, `__sub__`, `__mul__`\n",
    "        - 메서드\n",
    "            - def (self) 형태로 정의하면 됨"
   ]
  },
  {
   "cell_type": "code",
   "execution_count": 13,
   "id": "3ef08006-3617-4944-b647-f1363d85b18e",
   "metadata": {},
   "outputs": [],
   "source": [
    "class Person:\n",
    "    \n",
    "    # 클래스가 기본적으로 갖고 있는 정보\n",
    "    age = 16\n",
    "    gender = 'male'\n",
    "    \n",
    "    def my_age_is(self):\n",
    "        print(\"my age is\",self.age)\n",
    "    "
   ]
  },
  {
   "cell_type": "code",
   "execution_count": 14,
   "id": "82348808-5695-4925-b163-0778683715d2",
   "metadata": {},
   "outputs": [
    {
     "name": "stdout",
     "output_type": "stream",
     "text": [
      "my age is 16\n"
     ]
    }
   ],
   "source": [
    "# Person class 객체로 some_guy라는 인스턴스 객체를 생성\n",
    "\n",
    "some_guy = Person()\n",
    "some_guy.my_age_is()"
   ]
  },
  {
   "cell_type": "code",
   "execution_count": 16,
   "id": "085d4759-345a-49a7-b070-8b9d46c9484c",
   "metadata": {},
   "outputs": [
    {
     "data": {
      "text/plain": [
       "True"
      ]
     },
     "execution_count": 16,
     "metadata": {},
     "output_type": "execute_result"
    }
   ],
   "source": [
    "# 해당 클래스의 인스턴스인지 확인\n",
    "\n",
    "isinstance(some_guy, Person)"
   ]
  },
  {
   "cell_type": "code",
   "execution_count": 17,
   "id": "8ae9db60-0222-45c8-8798-d0a5488d985a",
   "metadata": {},
   "outputs": [],
   "source": [
    "class Person:\n",
    "    \n",
    "    def __init__(self):\n",
    "        self.age = 16\n",
    "        self.gender = 'male'\n",
    "    \n",
    "    def my_age_is(self):\n",
    "        print(\"my ag is\",self.age)"
   ]
  },
  {
   "cell_type": "code",
   "execution_count": 162,
   "id": "b31e61ca",
   "metadata": {},
   "outputs": [],
   "source": [
    "class Calculator:\n",
    "    \n",
    "    def add_(self, a, b):\n",
    "        '''\n",
    "        sum a and b\n",
    "        '''\n",
    "        assert (a and b) is not (float or int), \"a and b should be numeric\"\n",
    "        return a + b\n",
    "    \n",
    "    def subtract_(self, a, b):\n",
    "        assert (a and b) is not (float or int), \"a and b should be numeric\"\n",
    "        return abs(a - b)"
   ]
  },
  {
   "cell_type": "code",
   "execution_count": 163,
   "id": "ab5dd64f",
   "metadata": {},
   "outputs": [],
   "source": [
    "mycal = Calculator()"
   ]
  },
  {
   "cell_type": "code",
   "execution_count": 157,
   "id": "767ba219",
   "metadata": {},
   "outputs": [
    {
     "data": {
      "text/plain": [
       "3"
      ]
     },
     "execution_count": 157,
     "metadata": {},
     "output_type": "execute_result"
    }
   ],
   "source": [
    "mycal.add_(1,2)"
   ]
  },
  {
   "cell_type": "code",
   "execution_count": 164,
   "id": "84d4007b",
   "metadata": {},
   "outputs": [
    {
     "data": {
      "text/plain": [
       "1"
      ]
     },
     "execution_count": 164,
     "metadata": {},
     "output_type": "execute_result"
    }
   ],
   "source": [
    "mycal.subtract_(1,2)"
   ]
  },
  {
   "cell_type": "markdown",
   "id": "2ca4ae2f",
   "metadata": {},
   "source": [
    "## Class에서 정의해줘야 하는 것\n",
    "- `__init__` : 기본 정의해야 할 요소들이 정의됨\n",
    "- `__len__` : 클래스 요소의 구성요소의 갯수를 반환"
   ]
  },
  {
   "cell_type": "markdown",
   "id": "027e01d3",
   "metadata": {},
   "source": [
    "# 상속\n",
    "- 다른 클래스의 기능을 그대로 물려 받는 것을 말함"
   ]
  },
  {
   "cell_type": "code",
   "execution_count": 33,
   "id": "95628871-2e86-43e8-9bc3-3f18c80a792e",
   "metadata": {},
   "outputs": [],
   "source": [
    "class Person:\n",
    "    \n",
    "    def __init__(self, name, age):\n",
    "        self.name = name\n",
    "        self.age = age\n",
    "    \n",
    "    def my_age_is(self):\n",
    "        print(\"my age is\",self.age)"
   ]
  },
  {
   "cell_type": "code",
   "execution_count": 34,
   "id": "bcfae529",
   "metadata": {},
   "outputs": [],
   "source": [
    "class SoccerPlayer(Person):\n",
    "    \n",
    "    def __init__(self, name, age, team, position):\n",
    "        super().__init__(name, age)\n",
    "        self.team = team\n",
    "        self.position = position\n",
    "        self.steps = 0 \n",
    "        self.ball = False\n",
    "    \n",
    "    def front(self, steps, ball=False):\n",
    "        self.steps += steps\n",
    "        self.ball = ball\n",
    "    \n",
    "    def back(self, steps, ball=False):\n",
    "        self.steps -= steps\n",
    "        self.ball = ball\n",
    "    \n",
    "    def pass_to(self, to_whom):\n",
    "        if self.ball :\n",
    "            return True\n",
    "        else : \n",
    "            return False\n",
    "    \n",
    "    def kick(self):\n",
    "        if self.ball :\n",
    "            return \"score!!\"\n",
    "        \n",
    "        else :\n",
    "            return \"failed\""
   ]
  },
  {
   "cell_type": "code",
   "execution_count": 35,
   "id": "5280dd64",
   "metadata": {},
   "outputs": [],
   "source": [
    "son = SoccerPlayer('Son', 32, 'totenham', 'midfielder')"
   ]
  },
  {
   "cell_type": "code",
   "execution_count": 36,
   "id": "7efe067b",
   "metadata": {},
   "outputs": [],
   "source": [
    "son.front(10, True)"
   ]
  },
  {
   "cell_type": "code",
   "execution_count": 37,
   "id": "4e7a271e",
   "metadata": {},
   "outputs": [
    {
     "data": {
      "text/plain": [
       "'score!!'"
      ]
     },
     "execution_count": 37,
     "metadata": {},
     "output_type": "execute_result"
    }
   ],
   "source": [
    "son.kick()"
   ]
  },
  {
   "cell_type": "markdown",
   "id": "f6081e6e-5877-4cd0-b059-0d31a42bdefd",
   "metadata": {},
   "source": [
    "## 메서드 오버라이딩\n",
    "- 상속받은 클래스를 조금 수정해서 사용하고 싶을 때 사용하는 법"
   ]
  },
  {
   "cell_type": "code",
   "execution_count": 38,
   "id": "8b8bb615-05b9-42a8-a331-c53d5864ce4d",
   "metadata": {},
   "outputs": [],
   "source": [
    "class Person1(Person):\n",
    "    def print_name(self):\n",
    "        print(\"my name is\",self.name)"
   ]
  },
  {
   "cell_type": "code",
   "execution_count": 39,
   "id": "95db17f5-7dab-486c-b6d4-be54aed732d9",
   "metadata": {},
   "outputs": [
    {
     "name": "stdout",
     "output_type": "stream",
     "text": [
      "my name is mike\n",
      "my age is 20\n"
     ]
    },
    {
     "data": {
      "text/plain": [
       "(None, None)"
      ]
     },
     "execution_count": 39,
     "metadata": {},
     "output_type": "execute_result"
    }
   ],
   "source": [
    "mike = Person1(\"mike\", 20)\n",
    "\n",
    "mike.print_name(), mike.my_age_is()"
   ]
  },
  {
   "cell_type": "markdown",
   "id": "148b72a4-44c6-4587-b594-544016ae98f4",
   "metadata": {},
   "source": [
    "# Is a & Has a\n",
    "- 클래스를 설계하는 개념\n",
    "- A is a B\n",
    "    - A 는 B이다. 상속을 이용해서 클래스를 만드는 방법\n",
    "- A has B\n",
    "    - A 는 B를 가진다. A가 B 객체 가지고 클래스를 만드는 방법"
   ]
  },
  {
   "cell_type": "code",
   "execution_count": null,
   "id": "67b0fe15-918b-4acf-a0d3-086adfb5d837",
   "metadata": {},
   "outputs": [],
   "source": [
    "# is a\n",
    "\n",
    "class Person:\n",
    "    \n",
    "    def __init__(self, name, email):\n",
    "        self.name = name\n",
    "        self.email = email\n",
    "\n",
    "class Person2(Person):\n",
    "    def info(self):\n",
    "        print(self.name, self.email)\n",
    "        \n",
    "p = Person2(\"peter\", \"peter@naver.com\")\n",
    "p.info()"
   ]
  },
  {
   "cell_type": "code",
   "execution_count": 47,
   "id": "139b51c7-b8e9-403e-9583-069c8b58ca17",
   "metadata": {},
   "outputs": [
    {
     "name": "stdout",
     "output_type": "stream",
     "text": [
      "peter peter@naver.com\n"
     ]
    }
   ],
   "source": [
    "# has a\n",
    "\n",
    "class Name:\n",
    "    def __init__(self, name):\n",
    "        self.name_str = name\n",
    "    \n",
    "class Email:\n",
    "    def __init__(self, email):\n",
    "        self.email_str = email\n",
    "\n",
    "\n",
    "class Person:\n",
    "    \n",
    "    def __init__(self, name_object, email_object):\n",
    "        self.name = name_object\n",
    "        self.email = email_object\n",
    "    \n",
    "    def info(self):\n",
    "        print(self.name.name_str, self.email.email_str)\n",
    "        \n",
    "name1 = Name('peter')\n",
    "email1 = Email('peter@naver.com')\n",
    "p = Person(name1, email1)\n",
    "p.info()"
   ]
  },
  {
   "cell_type": "markdown",
   "id": "50696e20",
   "metadata": {},
   "source": [
    "# Modules and Libraries\n",
    "- 모듈이란 여러개의 python 함수들이 들어있는 것을 말한다.\n",
    "- 라이브러리란 여러개의 모듈을 모아 놓은 것\n",
    "- API 라고 하는 것이 보통 모듈을 말한다."
   ]
  },
  {
   "cell_type": "code",
   "execution_count": 40,
   "id": "6a1f8c3a",
   "metadata": {},
   "outputs": [],
   "source": [
    "import myfunctions as myfunc"
   ]
  },
  {
   "cell_type": "code",
   "execution_count": 41,
   "id": "66067ca7",
   "metadata": {},
   "outputs": [
    {
     "data": {
      "text/plain": [
       "['.PlayOnLinux',\n",
       " '.wine',\n",
       " '서식',\n",
       " '.xinitrc',\n",
       " '.profile',\n",
       " '.keras',\n",
       " '.gnuplot_history',\n",
       " '음악',\n",
       " '.zotero',\n",
       " '.gnome',\n",
       " '.ssh',\n",
       " 'We10XOS-dark',\n",
       " '.java',\n",
       " '.vim',\n",
       " '.mozilla',\n",
       " 'ttf-ms-win11-auto',\n",
       " 'anaconda3',\n",
       " '.gdrive',\n",
       " 'DataGripProjects',\n",
       " '사진',\n",
       " 'spotify',\n",
       " 'teams',\n",
       " '.python_history',\n",
       " '공개',\n",
       " '.bash_profile.bak',\n",
       " 'xerox-docucentre-driver',\n",
       " '.hnc',\n",
       " '.xprofile',\n",
       " '.cache',\n",
       " 'notion-app',\n",
       " 'javasharedresources',\n",
       " 'openoffice-bin',\n",
       " '.fontconfig',\n",
       " 'experiment.py',\n",
       " '.vscode-R',\n",
       " 'yay-git',\n",
       " '.zprofile',\n",
       " '.designer',\n",
       " '.hplip',\n",
       " 'zoom',\n",
       " '.ipython',\n",
       " '.pyenv',\n",
       " '.scala_history_jline3',\n",
       " 'rstudio-desktop-bin',\n",
       " 'jabref',\n",
       " '.vscode',\n",
       " 'nics-firearm-background-checks',\n",
       " 'libinput-gestures',\n",
       " 'slack-desktop',\n",
       " 'awd-lstm-lm',\n",
       " '.zcompdump',\n",
       " 'git_repositories',\n",
       " 'jdk18-openj9-bin',\n",
       " 'SDV',\n",
       " 'gdrive',\n",
       " '.putty',\n",
       " 'OneDrive',\n",
       " '.conda',\n",
       " 'mendeleydesktop',\n",
       " 'Downloads',\n",
       " 'visual-studio-code-bin',\n",
       " '.yarn',\n",
       " '.bashrc',\n",
       " '.zhistory',\n",
       " '.org.jabref.gui.JabRefMain',\n",
       " '.bash_history',\n",
       " 'R',\n",
       " '.kde4',\n",
       " '.local',\n",
       " '.gitconfig',\n",
       " '.gnupg',\n",
       " '.gtkrc-2.0',\n",
       " '.bash_logout',\n",
       " 'hoffice',\n",
       " 'libreoffice-impress-templates',\n",
       " 'Functional-Python-Programming-Second-Edition',\n",
       " '.wget-hsts',\n",
       " '.thunderbird',\n",
       " '.lesshst',\n",
       " '.zshrc',\n",
       " '.openoffice',\n",
       " '.config',\n",
       " '비디오',\n",
       " '.jupyter',\n",
       " '.Xauthority',\n",
       " 'playonlinux',\n",
       " '.m2',\n",
       " '.openjfx',\n",
       " '.Rhistory',\n",
       " '.yarnrc',\n",
       " 'Win11OS-kde',\n",
       " '.Xclients',\n",
       " '.pki',\n",
       " '.viminfo',\n",
       " '.r',\n",
       " '.pdfbox.cache',\n",
       " 'icu64',\n",
       " '문서',\n",
       " '.recently-used',\n",
       " '바탕화면',\n",
       " 'jetbrains-toolbox',\n",
       " '.dir_colors',\n",
       " '다운로드',\n",
       " '.netrc',\n",
       " '.bash_profile',\n",
       " '.zoom',\n",
       " '.nanorc',\n",
       " 'Zotero',\n",
       " '.icons',\n",
       " 'MetropolisODP',\n",
       " 'google-chrome',\n",
       " 'zotero-bin',\n",
       " 'onedrive-abraunegg',\n",
       " 'pick-colour-picker',\n",
       " 'httpdirfs']"
      ]
     },
     "execution_count": 41,
     "metadata": {},
     "output_type": "execute_result"
    }
   ],
   "source": [
    "path = '/home/wonseok'\n",
    "\n",
    "myfunc.count_files(path)"
   ]
  },
  {
   "cell_type": "code",
   "execution_count": 48,
   "id": "19fd2f91-a0e3-499c-bb14-6fd5ce29c90f",
   "metadata": {},
   "outputs": [],
   "source": [
    "from MyModule.functions import *"
   ]
  },
  {
   "cell_type": "code",
   "execution_count": 49,
   "id": "b14a38b0-9481-46c4-af31-7d33c8c82399",
   "metadata": {},
   "outputs": [],
   "source": [
    "bingo = Animal('bingo')"
   ]
  }
 ],
 "metadata": {
  "kernelspec": {
   "display_name": "Python 3 (ipykernel)",
   "language": "python",
   "name": "python3"
  },
  "language_info": {
   "codemirror_mode": {
    "name": "ipython",
    "version": 3
   },
   "file_extension": ".py",
   "mimetype": "text/x-python",
   "name": "python",
   "nbconvert_exporter": "python",
   "pygments_lexer": "ipython3",
   "version": "3.9.13"
  }
 },
 "nbformat": 4,
 "nbformat_minor": 5
}
