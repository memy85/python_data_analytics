{
 "cells": [
  {
   "cell_type": "markdown",
   "id": "0e860292-c336-4d7e-96ca-b8d3b0000836",
   "metadata": {},
   "source": [
    "# 부동산 데이터 분석 2\n",
    "## Recap\n",
    "- 데이터 로딩\n",
    "    - python api를 이용한 데이터 로딩 (pymysql, sqlalchemy)\n",
    "- 데이터 표현하기\n",
    "    - 연속형 변수 (continuous variable)\n",
    "        - mean, median, standard deviation, IQR\n",
    "    - 명목형 변수 (categorical variable)\n",
    "        - count, histogram\n",
    "    - correlation\n",
    "        - -1~1 : 절대값이 1에 가까울 수록 강한 상관관계를 갖는다.\n",
    "            - 상관관계 =/= 인과관계"
   ]
  },
  {
   "cell_type": "code",
   "execution_count": null,
   "id": "ab766e21-0115-4503-8d73-07442c37be33",
   "metadata": {},
   "outputs": [],
   "source": []
  }
 ],
 "metadata": {
  "kernelspec": {
   "display_name": "Python 3 (ipykernel)",
   "language": "python",
   "name": "python3"
  },
  "language_info": {
   "codemirror_mode": {
    "name": "ipython",
    "version": 3
   },
   "file_extension": ".py",
   "mimetype": "text/x-python",
   "name": "python",
   "nbconvert_exporter": "python",
   "pygments_lexer": "ipython3",
   "version": "3.9.13"
  }
 },
 "nbformat": 4,
 "nbformat_minor": 5
}
