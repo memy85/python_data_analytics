{
 "cells": [
  {
   "cell_type": "markdown",
   "id": "87e8382d",
   "metadata": {},
   "source": [
    "# Jupyter Notebook Markdown \n",
    "## Subtitle\n",
    "\n",
    "- Bullet point\n",
    "    - Bullet point small\n",
    "        - Third Bullet point\n",
    "        \n",
    "```\n",
    "# you can write code in here\n",
    "import pandas as pd\n",
    "pd.read_csv(path)\n",
    "```\n",
    "\n",
    "**we can highlight the sentence**\\\n",
    "*Italic*\\\n",
    "***Italic and Bold together***\n",
    "\n",
    "\n",
    "## Markdown 작동방식\n",
    "1. Numbering\n",
    "- hello my name is wonseok\n",
    "- bullet point two\n",
    "\n",
    "    1. Small numbering \\\n",
    "    This will work? Yes it works\n",
    "\n",
    "\n",
    "        1. Numbering third\n",
    "        \n",
    "        \n",
    "2. 수학적인 수식도 적을 수 있습니다. \\\n",
    "$ ax + by = c$  \n",
    "이렇게 적으면 왼쪽 맞춤\n",
    "\n",
    "$$ ax + by = c $$ \n",
    "이렇게 적으면 가운데 맞춤\n",
    "\n",
    "\n",
    "3. 단축키\n",
    "    - `a`를 입력하면 현재 셀 위에 새로운 셀을 삽입\n",
    "    - `b`를 입력하면 현재 셀 아래에 새로운 셀을 삽입\n",
    "    - `c`를 누르면 현재 셀을 복사\n",
    "    - `v`를 누르면 복사한 셀을 붙여넣을 수 있음\n",
    "    - `dd`현재 셀을 제거\n",
    "    - `z` 직전에 했던 명령을 되돌림\n",
    "    - `f` 주피터 노트북 상에서 글자를 찾을 수 있음\n",
    "    - `Shift + Enter` 셀을 실행시키고 다음 셀로 이동\n",
    "    - `Ctrl + Enter` 현재 셀을 실행시킴"
   ]
  },
  {
   "cell_type": "markdown",
   "id": "9609604a",
   "metadata": {},
   "source": [
    "# Jupyter Notebook Extensions\n",
    "- extension이란?\n",
    "    - 추가적으로 사용할 수 있는 기능들을 의미함\n",
    "    - `tab` 을 입력하면 자동완성 기능을 이용할 수 있음\n",
    "    - `?명령어`를 입력하면 docstring을 볼 수 있음\n",
    "        - docstring은 함수나 object에 대한 설명이라고 보면 된다."
   ]
  },
  {
   "cell_type": "code",
   "execution_count": 6,
   "id": "3e46fd40",
   "metadata": {},
   "outputs": [
    {
     "name": "stdout",
     "output_type": "stream",
     "text": [
      "hello world\n"
     ]
    }
   ],
   "source": [
    "print('hello world')\n",
    "\n",
    "# 여기는 셀이라고 하고, 여기서는 파이썬 명령을 적을 수 있다. "
   ]
  },
  {
   "cell_type": "markdown",
   "id": "c3bcab5a",
   "metadata": {},
   "source": [
    "# Computer에 대한 기초적인 지식들\n",
    "## cpu, memory, 저장용량\n",
    "- cpu : Central Processing Unit\n",
    "    - 컴퓨터의 거의 모든 계산은 이 곳에서 이루어진다고 보면 된다.\n",
    "    - 컴퓨터는 이진수로 이루어진 bit, byte로 계산을 하는데 cpu에서 이것을 계산함.\n",
    "- memory : 램, 단기기억 장치\n",
    "    - 컴퓨터가 계산을 할 때는 정보를 단기적으로 데리고 있는 장소가 있고 정보들을 그곳에서 꺼내어 cpu로 보내어 계산을 하게 됨.\n",
    "    - 컴퓨터의 빠르기를 결정하는 중요한 요인이 cpu와 ram이라고 봐도 무방함.\n",
    "- 저장용량 : SSD\n",
    "    - 데이터를 영구적으로 저장하는 장치. \n",
    "    - 느리지만 상대적으로 안정적임\n",
    "        "
   ]
  },
  {
   "cell_type": "markdown",
   "id": "ce1e4b54",
   "metadata": {},
   "source": [
    "        \n",
    "## 프로그래밍이란 무엇인가?\n",
    "- 프로그래밍이란 프로그래밍 언어를 통해서 컴퓨터로 하여금 작동하도록 명령을 내리는 것을 말한다.\n",
    "\n",
    "- **프로그래밍적 사고, 알고리즘적 사고**\n",
    "    - 모든 프로그램은 input과 output이 있다. \n",
    "    - input과 output의 중간과정을 흔히 알고리즘이라고 이야기 한다. \n",
    "    - **좋은 프로그래밍이란 효율적인 계산과정을 거쳐 output을 내는 것**\n",
    "\n",
    "- 좋은 프로그래머가 되기 위해서 해야할 일\n",
    "    - 반드시 input과 output을 적어보자.\n",
    "    - 중간에 어떤 연산(계산)이 이루어져야 내가 원하는 output이 나올지 지도를 그려보자.\n",
    "    - 이렇게 했을 때 코딩을 짜는 것은 매우 쉬워진다."
   ]
  },
  {
   "cell_type": "markdown",
   "id": "2c289025",
   "metadata": {},
   "source": [
    "# Data Science의 개념\n",
    "\n",
    "- 데이터 사이언스가 무엇이라고 생각하나?\n",
    "    - 도메인 지식\n",
    "        - 분야에 대한 제반 지식. 데이터에 대한 해석을 하기 위해서는 도메인의 데이터들이 생성되는 과정에 대한 이해가 **절대적으로** 필요하다.\n",
    "    - 통계적 지식\n",
    "        - 통계 및 확률에 대한 기본적인 지식들이 필요하다. 연속형, 명목형 변수들에 대해서 이해하고 있어야 하고\n",
    "        - 시계열 데이터를 어떻게 처리할지에 대해서도 이해해야 한다. \n",
    "    - 컴퓨터 관련 프로그래밍 지식\n",
    "        - R, python과 같은 툴을 이용해서 데이터를 처리\n",
    "        - 데이터를 정제하고 원하는 데이터들을 결합\n",
    "        - 알고자 하는 insight를 찾는 것\n",
    "- 데이터 사이언스 그림\n",
    "    <img src=./pictures/datascience.png style=\"width:500px\" title=\"Data Science\">"
   ]
  },
  {
   "cell_type": "code",
   "execution_count": null,
   "id": "8cda742c",
   "metadata": {},
   "outputs": [],
   "source": []
  }
 ],
 "metadata": {
  "kernelspec": {
   "display_name": "Python 3 (ipykernel)",
   "language": "python",
   "name": "python3"
  },
  "language_info": {
   "codemirror_mode": {
    "name": "ipython",
    "version": 3
   },
   "file_extension": ".py",
   "mimetype": "text/x-python",
   "name": "python",
   "nbconvert_exporter": "python",
   "pygments_lexer": "ipython3",
   "version": "3.9.13"
  }
 },
 "nbformat": 4,
 "nbformat_minor": 5
}
